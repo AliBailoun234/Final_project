{
 "cells": [
  {
   "cell_type": "code",
   "execution_count": 1,
   "id": "b7853609",
   "metadata": {},
   "outputs": [],
   "source": [
    "import os\n",
    "import pandas as pd\n",
    "import numpy as np\n",
    "import plotly.graph_objects as go"
   ]
  },
  {
   "cell_type": "code",
   "execution_count": 2,
   "id": "ddb3a32e",
   "metadata": {},
   "outputs": [],
   "source": [
    "player_data = pd.read_csv('player_data.csv')\n",
    "players = pd.read_csv('Players.csv')\n",
    "Seasons_Stats = pd.read_csv('Seasons_Stats.csv')"
   ]
  },
  {
   "cell_type": "code",
   "execution_count": 3,
   "id": "f7cf20f9",
   "metadata": {
    "scrolled": true
   },
   "outputs": [
    {
     "data": {
      "text/html": [
       "<div>\n",
       "<style scoped>\n",
       "    .dataframe tbody tr th:only-of-type {\n",
       "        vertical-align: middle;\n",
       "    }\n",
       "\n",
       "    .dataframe tbody tr th {\n",
       "        vertical-align: top;\n",
       "    }\n",
       "\n",
       "    .dataframe thead th {\n",
       "        text-align: right;\n",
       "    }\n",
       "</style>\n",
       "<table border=\"1\" class=\"dataframe\">\n",
       "  <thead>\n",
       "    <tr style=\"text-align: right;\">\n",
       "      <th></th>\n",
       "      <th>Unnamed: 0</th>\n",
       "      <th>Year</th>\n",
       "      <th>Player</th>\n",
       "      <th>Pos</th>\n",
       "      <th>Age</th>\n",
       "      <th>Tm</th>\n",
       "      <th>G</th>\n",
       "      <th>GS</th>\n",
       "      <th>MP</th>\n",
       "      <th>PER</th>\n",
       "      <th>...</th>\n",
       "      <th>FT%</th>\n",
       "      <th>ORB</th>\n",
       "      <th>DRB</th>\n",
       "      <th>TRB</th>\n",
       "      <th>AST</th>\n",
       "      <th>STL</th>\n",
       "      <th>BLK</th>\n",
       "      <th>TOV</th>\n",
       "      <th>PF</th>\n",
       "      <th>PTS</th>\n",
       "    </tr>\n",
       "  </thead>\n",
       "  <tbody>\n",
       "    <tr>\n",
       "      <th>0</th>\n",
       "      <td>0</td>\n",
       "      <td>1950.0</td>\n",
       "      <td>Curly Armstrong</td>\n",
       "      <td>G-F</td>\n",
       "      <td>31.0</td>\n",
       "      <td>FTW</td>\n",
       "      <td>63.0</td>\n",
       "      <td>NaN</td>\n",
       "      <td>NaN</td>\n",
       "      <td>NaN</td>\n",
       "      <td>...</td>\n",
       "      <td>0.705</td>\n",
       "      <td>NaN</td>\n",
       "      <td>NaN</td>\n",
       "      <td>NaN</td>\n",
       "      <td>176.0</td>\n",
       "      <td>NaN</td>\n",
       "      <td>NaN</td>\n",
       "      <td>NaN</td>\n",
       "      <td>217.0</td>\n",
       "      <td>458.0</td>\n",
       "    </tr>\n",
       "    <tr>\n",
       "      <th>1</th>\n",
       "      <td>1</td>\n",
       "      <td>1950.0</td>\n",
       "      <td>Cliff Barker</td>\n",
       "      <td>SG</td>\n",
       "      <td>29.0</td>\n",
       "      <td>INO</td>\n",
       "      <td>49.0</td>\n",
       "      <td>NaN</td>\n",
       "      <td>NaN</td>\n",
       "      <td>NaN</td>\n",
       "      <td>...</td>\n",
       "      <td>0.708</td>\n",
       "      <td>NaN</td>\n",
       "      <td>NaN</td>\n",
       "      <td>NaN</td>\n",
       "      <td>109.0</td>\n",
       "      <td>NaN</td>\n",
       "      <td>NaN</td>\n",
       "      <td>NaN</td>\n",
       "      <td>99.0</td>\n",
       "      <td>279.0</td>\n",
       "    </tr>\n",
       "    <tr>\n",
       "      <th>2</th>\n",
       "      <td>2</td>\n",
       "      <td>1950.0</td>\n",
       "      <td>Leo Barnhorst</td>\n",
       "      <td>SF</td>\n",
       "      <td>25.0</td>\n",
       "      <td>CHS</td>\n",
       "      <td>67.0</td>\n",
       "      <td>NaN</td>\n",
       "      <td>NaN</td>\n",
       "      <td>NaN</td>\n",
       "      <td>...</td>\n",
       "      <td>0.698</td>\n",
       "      <td>NaN</td>\n",
       "      <td>NaN</td>\n",
       "      <td>NaN</td>\n",
       "      <td>140.0</td>\n",
       "      <td>NaN</td>\n",
       "      <td>NaN</td>\n",
       "      <td>NaN</td>\n",
       "      <td>192.0</td>\n",
       "      <td>438.0</td>\n",
       "    </tr>\n",
       "    <tr>\n",
       "      <th>3</th>\n",
       "      <td>3</td>\n",
       "      <td>1950.0</td>\n",
       "      <td>Ed Bartels</td>\n",
       "      <td>F</td>\n",
       "      <td>24.0</td>\n",
       "      <td>TOT</td>\n",
       "      <td>15.0</td>\n",
       "      <td>NaN</td>\n",
       "      <td>NaN</td>\n",
       "      <td>NaN</td>\n",
       "      <td>...</td>\n",
       "      <td>0.559</td>\n",
       "      <td>NaN</td>\n",
       "      <td>NaN</td>\n",
       "      <td>NaN</td>\n",
       "      <td>20.0</td>\n",
       "      <td>NaN</td>\n",
       "      <td>NaN</td>\n",
       "      <td>NaN</td>\n",
       "      <td>29.0</td>\n",
       "      <td>63.0</td>\n",
       "    </tr>\n",
       "    <tr>\n",
       "      <th>4</th>\n",
       "      <td>4</td>\n",
       "      <td>1950.0</td>\n",
       "      <td>Ed Bartels</td>\n",
       "      <td>F</td>\n",
       "      <td>24.0</td>\n",
       "      <td>DNN</td>\n",
       "      <td>13.0</td>\n",
       "      <td>NaN</td>\n",
       "      <td>NaN</td>\n",
       "      <td>NaN</td>\n",
       "      <td>...</td>\n",
       "      <td>0.548</td>\n",
       "      <td>NaN</td>\n",
       "      <td>NaN</td>\n",
       "      <td>NaN</td>\n",
       "      <td>20.0</td>\n",
       "      <td>NaN</td>\n",
       "      <td>NaN</td>\n",
       "      <td>NaN</td>\n",
       "      <td>27.0</td>\n",
       "      <td>59.0</td>\n",
       "    </tr>\n",
       "  </tbody>\n",
       "</table>\n",
       "<p>5 rows × 53 columns</p>\n",
       "</div>"
      ],
      "text/plain": [
       "   Unnamed: 0    Year           Player  Pos   Age   Tm     G  GS  MP  PER  \\\n",
       "0           0  1950.0  Curly Armstrong  G-F  31.0  FTW  63.0 NaN NaN  NaN   \n",
       "1           1  1950.0     Cliff Barker   SG  29.0  INO  49.0 NaN NaN  NaN   \n",
       "2           2  1950.0    Leo Barnhorst   SF  25.0  CHS  67.0 NaN NaN  NaN   \n",
       "3           3  1950.0       Ed Bartels    F  24.0  TOT  15.0 NaN NaN  NaN   \n",
       "4           4  1950.0       Ed Bartels    F  24.0  DNN  13.0 NaN NaN  NaN   \n",
       "\n",
       "   ...    FT%  ORB  DRB  TRB    AST  STL  BLK  TOV     PF    PTS  \n",
       "0  ...  0.705  NaN  NaN  NaN  176.0  NaN  NaN  NaN  217.0  458.0  \n",
       "1  ...  0.708  NaN  NaN  NaN  109.0  NaN  NaN  NaN   99.0  279.0  \n",
       "2  ...  0.698  NaN  NaN  NaN  140.0  NaN  NaN  NaN  192.0  438.0  \n",
       "3  ...  0.559  NaN  NaN  NaN   20.0  NaN  NaN  NaN   29.0   63.0  \n",
       "4  ...  0.548  NaN  NaN  NaN   20.0  NaN  NaN  NaN   27.0   59.0  \n",
       "\n",
       "[5 rows x 53 columns]"
      ]
     },
     "execution_count": 3,
     "metadata": {},
     "output_type": "execute_result"
    }
   ],
   "source": [
    "Seasons_Stats.head()"
   ]
  },
  {
   "cell_type": "code",
   "execution_count": 4,
   "id": "aacf9eb2",
   "metadata": {},
   "outputs": [
    {
     "data": {
      "text/html": [
       "<div>\n",
       "<style scoped>\n",
       "    .dataframe tbody tr th:only-of-type {\n",
       "        vertical-align: middle;\n",
       "    }\n",
       "\n",
       "    .dataframe tbody tr th {\n",
       "        vertical-align: top;\n",
       "    }\n",
       "\n",
       "    .dataframe thead th {\n",
       "        text-align: right;\n",
       "    }\n",
       "</style>\n",
       "<table border=\"1\" class=\"dataframe\">\n",
       "  <thead>\n",
       "    <tr style=\"text-align: right;\">\n",
       "      <th></th>\n",
       "      <th>name</th>\n",
       "      <th>year_start</th>\n",
       "      <th>year_end</th>\n",
       "      <th>position</th>\n",
       "      <th>height</th>\n",
       "      <th>weight</th>\n",
       "      <th>birth_date</th>\n",
       "      <th>college</th>\n",
       "    </tr>\n",
       "  </thead>\n",
       "  <tbody>\n",
       "    <tr>\n",
       "      <th>0</th>\n",
       "      <td>Alaa Abdelnaby</td>\n",
       "      <td>1991</td>\n",
       "      <td>1995</td>\n",
       "      <td>F-C</td>\n",
       "      <td>6-10</td>\n",
       "      <td>240.0</td>\n",
       "      <td>June 24, 1968</td>\n",
       "      <td>Duke University</td>\n",
       "    </tr>\n",
       "    <tr>\n",
       "      <th>1</th>\n",
       "      <td>Zaid Abdul-Aziz</td>\n",
       "      <td>1969</td>\n",
       "      <td>1978</td>\n",
       "      <td>C-F</td>\n",
       "      <td>6-9</td>\n",
       "      <td>235.0</td>\n",
       "      <td>April 7, 1946</td>\n",
       "      <td>Iowa State University</td>\n",
       "    </tr>\n",
       "    <tr>\n",
       "      <th>2</th>\n",
       "      <td>Kareem Abdul-Jabbar</td>\n",
       "      <td>1970</td>\n",
       "      <td>1989</td>\n",
       "      <td>C</td>\n",
       "      <td>7-2</td>\n",
       "      <td>225.0</td>\n",
       "      <td>April 16, 1947</td>\n",
       "      <td>University of California, Los Angeles</td>\n",
       "    </tr>\n",
       "    <tr>\n",
       "      <th>3</th>\n",
       "      <td>Mahmoud Abdul-Rauf</td>\n",
       "      <td>1991</td>\n",
       "      <td>2001</td>\n",
       "      <td>G</td>\n",
       "      <td>6-1</td>\n",
       "      <td>162.0</td>\n",
       "      <td>March 9, 1969</td>\n",
       "      <td>Louisiana State University</td>\n",
       "    </tr>\n",
       "    <tr>\n",
       "      <th>4</th>\n",
       "      <td>Tariq Abdul-Wahad</td>\n",
       "      <td>1998</td>\n",
       "      <td>2003</td>\n",
       "      <td>F</td>\n",
       "      <td>6-6</td>\n",
       "      <td>223.0</td>\n",
       "      <td>November 3, 1974</td>\n",
       "      <td>San Jose State University</td>\n",
       "    </tr>\n",
       "  </tbody>\n",
       "</table>\n",
       "</div>"
      ],
      "text/plain": [
       "                  name  year_start  year_end position height  weight  \\\n",
       "0       Alaa Abdelnaby        1991      1995      F-C   6-10   240.0   \n",
       "1      Zaid Abdul-Aziz        1969      1978      C-F    6-9   235.0   \n",
       "2  Kareem Abdul-Jabbar        1970      1989        C    7-2   225.0   \n",
       "3   Mahmoud Abdul-Rauf        1991      2001        G    6-1   162.0   \n",
       "4    Tariq Abdul-Wahad        1998      2003        F    6-6   223.0   \n",
       "\n",
       "         birth_date                                college  \n",
       "0     June 24, 1968                        Duke University  \n",
       "1     April 7, 1946                  Iowa State University  \n",
       "2    April 16, 1947  University of California, Los Angeles  \n",
       "3     March 9, 1969             Louisiana State University  \n",
       "4  November 3, 1974              San Jose State University  "
      ]
     },
     "execution_count": 4,
     "metadata": {},
     "output_type": "execute_result"
    }
   ],
   "source": [
    "player_data.head()"
   ]
  },
  {
   "cell_type": "code",
   "execution_count": 5,
   "id": "e6751d5f",
   "metadata": {},
   "outputs": [
    {
     "data": {
      "text/html": [
       "<div>\n",
       "<style scoped>\n",
       "    .dataframe tbody tr th:only-of-type {\n",
       "        vertical-align: middle;\n",
       "    }\n",
       "\n",
       "    .dataframe tbody tr th {\n",
       "        vertical-align: top;\n",
       "    }\n",
       "\n",
       "    .dataframe thead th {\n",
       "        text-align: right;\n",
       "    }\n",
       "</style>\n",
       "<table border=\"1\" class=\"dataframe\">\n",
       "  <thead>\n",
       "    <tr style=\"text-align: right;\">\n",
       "      <th></th>\n",
       "      <th>Unnamed: 0</th>\n",
       "      <th>Player</th>\n",
       "      <th>height</th>\n",
       "      <th>weight</th>\n",
       "      <th>collage</th>\n",
       "      <th>born</th>\n",
       "      <th>birth_city</th>\n",
       "      <th>birth_state</th>\n",
       "    </tr>\n",
       "  </thead>\n",
       "  <tbody>\n",
       "    <tr>\n",
       "      <th>0</th>\n",
       "      <td>0</td>\n",
       "      <td>Curly Armstrong</td>\n",
       "      <td>180.0</td>\n",
       "      <td>77.0</td>\n",
       "      <td>Indiana University</td>\n",
       "      <td>1918.0</td>\n",
       "      <td>NaN</td>\n",
       "      <td>NaN</td>\n",
       "    </tr>\n",
       "    <tr>\n",
       "      <th>1</th>\n",
       "      <td>1</td>\n",
       "      <td>Cliff Barker</td>\n",
       "      <td>188.0</td>\n",
       "      <td>83.0</td>\n",
       "      <td>University of Kentucky</td>\n",
       "      <td>1921.0</td>\n",
       "      <td>Yorktown</td>\n",
       "      <td>Indiana</td>\n",
       "    </tr>\n",
       "    <tr>\n",
       "      <th>2</th>\n",
       "      <td>2</td>\n",
       "      <td>Leo Barnhorst</td>\n",
       "      <td>193.0</td>\n",
       "      <td>86.0</td>\n",
       "      <td>University of Notre Dame</td>\n",
       "      <td>1924.0</td>\n",
       "      <td>NaN</td>\n",
       "      <td>NaN</td>\n",
       "    </tr>\n",
       "    <tr>\n",
       "      <th>3</th>\n",
       "      <td>3</td>\n",
       "      <td>Ed Bartels</td>\n",
       "      <td>196.0</td>\n",
       "      <td>88.0</td>\n",
       "      <td>North Carolina State University</td>\n",
       "      <td>1925.0</td>\n",
       "      <td>NaN</td>\n",
       "      <td>NaN</td>\n",
       "    </tr>\n",
       "    <tr>\n",
       "      <th>4</th>\n",
       "      <td>4</td>\n",
       "      <td>Ralph Beard</td>\n",
       "      <td>178.0</td>\n",
       "      <td>79.0</td>\n",
       "      <td>University of Kentucky</td>\n",
       "      <td>1927.0</td>\n",
       "      <td>Hardinsburg</td>\n",
       "      <td>Kentucky</td>\n",
       "    </tr>\n",
       "  </tbody>\n",
       "</table>\n",
       "</div>"
      ],
      "text/plain": [
       "   Unnamed: 0           Player  height  weight  \\\n",
       "0           0  Curly Armstrong   180.0    77.0   \n",
       "1           1     Cliff Barker   188.0    83.0   \n",
       "2           2    Leo Barnhorst   193.0    86.0   \n",
       "3           3       Ed Bartels   196.0    88.0   \n",
       "4           4      Ralph Beard   178.0    79.0   \n",
       "\n",
       "                           collage    born   birth_city birth_state  \n",
       "0               Indiana University  1918.0          NaN         NaN  \n",
       "1           University of Kentucky  1921.0     Yorktown     Indiana  \n",
       "2         University of Notre Dame  1924.0          NaN         NaN  \n",
       "3  North Carolina State University  1925.0          NaN         NaN  \n",
       "4           University of Kentucky  1927.0  Hardinsburg    Kentucky  "
      ]
     },
     "execution_count": 5,
     "metadata": {},
     "output_type": "execute_result"
    }
   ],
   "source": [
    "players.head()"
   ]
  },
  {
   "cell_type": "code",
   "execution_count": 6,
   "id": "a6a45cae",
   "metadata": {},
   "outputs": [
    {
     "data": {
      "text/html": [
       "<div>\n",
       "<style scoped>\n",
       "    .dataframe tbody tr th:only-of-type {\n",
       "        vertical-align: middle;\n",
       "    }\n",
       "\n",
       "    .dataframe tbody tr th {\n",
       "        vertical-align: top;\n",
       "    }\n",
       "\n",
       "    .dataframe thead th {\n",
       "        text-align: right;\n",
       "    }\n",
       "</style>\n",
       "<table border=\"1\" class=\"dataframe\">\n",
       "  <thead>\n",
       "    <tr style=\"text-align: right;\">\n",
       "      <th></th>\n",
       "      <th>Unnamed: 0</th>\n",
       "      <th>Year</th>\n",
       "      <th>Player</th>\n",
       "      <th>Pos</th>\n",
       "      <th>Age</th>\n",
       "      <th>Tm</th>\n",
       "      <th>G</th>\n",
       "      <th>GS</th>\n",
       "      <th>MP</th>\n",
       "      <th>PER</th>\n",
       "      <th>...</th>\n",
       "      <th>FT%</th>\n",
       "      <th>ORB</th>\n",
       "      <th>DRB</th>\n",
       "      <th>TRB</th>\n",
       "      <th>AST</th>\n",
       "      <th>STL</th>\n",
       "      <th>BLK</th>\n",
       "      <th>TOV</th>\n",
       "      <th>PF</th>\n",
       "      <th>PTS</th>\n",
       "    </tr>\n",
       "  </thead>\n",
       "  <tbody>\n",
       "    <tr>\n",
       "      <th>1460</th>\n",
       "      <td>1460</td>\n",
       "      <td>1960.0</td>\n",
       "      <td>Gary Alcorn</td>\n",
       "      <td>C</td>\n",
       "      <td>23.0</td>\n",
       "      <td>DET</td>\n",
       "      <td>58.0</td>\n",
       "      <td>NaN</td>\n",
       "      <td>670.0</td>\n",
       "      <td>7.6</td>\n",
       "      <td>...</td>\n",
       "      <td>0.571</td>\n",
       "      <td>NaN</td>\n",
       "      <td>NaN</td>\n",
       "      <td>279.0</td>\n",
       "      <td>22.0</td>\n",
       "      <td>NaN</td>\n",
       "      <td>NaN</td>\n",
       "      <td>NaN</td>\n",
       "      <td>123.0</td>\n",
       "      <td>230.0</td>\n",
       "    </tr>\n",
       "    <tr>\n",
       "      <th>1461</th>\n",
       "      <td>1461</td>\n",
       "      <td>1960.0</td>\n",
       "      <td>Bob Anderegg</td>\n",
       "      <td>SF</td>\n",
       "      <td>22.0</td>\n",
       "      <td>NYK</td>\n",
       "      <td>33.0</td>\n",
       "      <td>NaN</td>\n",
       "      <td>373.0</td>\n",
       "      <td>9.3</td>\n",
       "      <td>...</td>\n",
       "      <td>0.548</td>\n",
       "      <td>NaN</td>\n",
       "      <td>NaN</td>\n",
       "      <td>69.0</td>\n",
       "      <td>29.0</td>\n",
       "      <td>NaN</td>\n",
       "      <td>NaN</td>\n",
       "      <td>NaN</td>\n",
       "      <td>32.0</td>\n",
       "      <td>133.0</td>\n",
       "    </tr>\n",
       "    <tr>\n",
       "      <th>1462</th>\n",
       "      <td>1462</td>\n",
       "      <td>1960.0</td>\n",
       "      <td>Paul Arizin*</td>\n",
       "      <td>SF</td>\n",
       "      <td>31.0</td>\n",
       "      <td>PHW</td>\n",
       "      <td>72.0</td>\n",
       "      <td>NaN</td>\n",
       "      <td>2618.0</td>\n",
       "      <td>17.2</td>\n",
       "      <td>...</td>\n",
       "      <td>0.798</td>\n",
       "      <td>NaN</td>\n",
       "      <td>NaN</td>\n",
       "      <td>621.0</td>\n",
       "      <td>165.0</td>\n",
       "      <td>NaN</td>\n",
       "      <td>NaN</td>\n",
       "      <td>NaN</td>\n",
       "      <td>263.0</td>\n",
       "      <td>1606.0</td>\n",
       "    </tr>\n",
       "    <tr>\n",
       "      <th>1463</th>\n",
       "      <td>1463</td>\n",
       "      <td>1960.0</td>\n",
       "      <td>Dick Barnett</td>\n",
       "      <td>SG</td>\n",
       "      <td>23.0</td>\n",
       "      <td>SYR</td>\n",
       "      <td>57.0</td>\n",
       "      <td>NaN</td>\n",
       "      <td>1235.0</td>\n",
       "      <td>15.1</td>\n",
       "      <td>...</td>\n",
       "      <td>0.711</td>\n",
       "      <td>NaN</td>\n",
       "      <td>NaN</td>\n",
       "      <td>155.0</td>\n",
       "      <td>160.0</td>\n",
       "      <td>NaN</td>\n",
       "      <td>NaN</td>\n",
       "      <td>NaN</td>\n",
       "      <td>98.0</td>\n",
       "      <td>706.0</td>\n",
       "    </tr>\n",
       "    <tr>\n",
       "      <th>1464</th>\n",
       "      <td>1464</td>\n",
       "      <td>1960.0</td>\n",
       "      <td>Elgin Baylor*</td>\n",
       "      <td>SF</td>\n",
       "      <td>25.0</td>\n",
       "      <td>MNL</td>\n",
       "      <td>70.0</td>\n",
       "      <td>NaN</td>\n",
       "      <td>2873.0</td>\n",
       "      <td>25.2</td>\n",
       "      <td>...</td>\n",
       "      <td>0.732</td>\n",
       "      <td>NaN</td>\n",
       "      <td>NaN</td>\n",
       "      <td>1150.0</td>\n",
       "      <td>243.0</td>\n",
       "      <td>NaN</td>\n",
       "      <td>NaN</td>\n",
       "      <td>NaN</td>\n",
       "      <td>234.0</td>\n",
       "      <td>2074.0</td>\n",
       "    </tr>\n",
       "    <tr>\n",
       "      <th>...</th>\n",
       "      <td>...</td>\n",
       "      <td>...</td>\n",
       "      <td>...</td>\n",
       "      <td>...</td>\n",
       "      <td>...</td>\n",
       "      <td>...</td>\n",
       "      <td>...</td>\n",
       "      <td>...</td>\n",
       "      <td>...</td>\n",
       "      <td>...</td>\n",
       "      <td>...</td>\n",
       "      <td>...</td>\n",
       "      <td>...</td>\n",
       "      <td>...</td>\n",
       "      <td>...</td>\n",
       "      <td>...</td>\n",
       "      <td>...</td>\n",
       "      <td>...</td>\n",
       "      <td>...</td>\n",
       "      <td>...</td>\n",
       "      <td>...</td>\n",
       "    </tr>\n",
       "    <tr>\n",
       "      <th>2861</th>\n",
       "      <td>2861</td>\n",
       "      <td>1969.0</td>\n",
       "      <td>Sam Williams</td>\n",
       "      <td>SG</td>\n",
       "      <td>24.0</td>\n",
       "      <td>MIL</td>\n",
       "      <td>55.0</td>\n",
       "      <td>NaN</td>\n",
       "      <td>628.0</td>\n",
       "      <td>7.9</td>\n",
       "      <td>...</td>\n",
       "      <td>0.537</td>\n",
       "      <td>NaN</td>\n",
       "      <td>NaN</td>\n",
       "      <td>109.0</td>\n",
       "      <td>61.0</td>\n",
       "      <td>NaN</td>\n",
       "      <td>NaN</td>\n",
       "      <td>NaN</td>\n",
       "      <td>106.0</td>\n",
       "      <td>228.0</td>\n",
       "    </tr>\n",
       "    <tr>\n",
       "      <th>2862</th>\n",
       "      <td>2862</td>\n",
       "      <td>1969.0</td>\n",
       "      <td>George Wilson</td>\n",
       "      <td>C</td>\n",
       "      <td>26.0</td>\n",
       "      <td>TOT</td>\n",
       "      <td>79.0</td>\n",
       "      <td>NaN</td>\n",
       "      <td>1846.0</td>\n",
       "      <td>13.2</td>\n",
       "      <td>...</td>\n",
       "      <td>0.651</td>\n",
       "      <td>NaN</td>\n",
       "      <td>NaN</td>\n",
       "      <td>721.0</td>\n",
       "      <td>108.0</td>\n",
       "      <td>NaN</td>\n",
       "      <td>NaN</td>\n",
       "      <td>NaN</td>\n",
       "      <td>232.0</td>\n",
       "      <td>697.0</td>\n",
       "    </tr>\n",
       "    <tr>\n",
       "      <th>2863</th>\n",
       "      <td>2863</td>\n",
       "      <td>1969.0</td>\n",
       "      <td>George Wilson</td>\n",
       "      <td>C</td>\n",
       "      <td>26.0</td>\n",
       "      <td>PHO</td>\n",
       "      <td>41.0</td>\n",
       "      <td>NaN</td>\n",
       "      <td>1294.0</td>\n",
       "      <td>12.6</td>\n",
       "      <td>...</td>\n",
       "      <td>0.616</td>\n",
       "      <td>NaN</td>\n",
       "      <td>NaN</td>\n",
       "      <td>505.0</td>\n",
       "      <td>76.0</td>\n",
       "      <td>NaN</td>\n",
       "      <td>NaN</td>\n",
       "      <td>NaN</td>\n",
       "      <td>145.0</td>\n",
       "      <td>475.0</td>\n",
       "    </tr>\n",
       "    <tr>\n",
       "      <th>2864</th>\n",
       "      <td>2864</td>\n",
       "      <td>1969.0</td>\n",
       "      <td>George Wilson</td>\n",
       "      <td>C</td>\n",
       "      <td>26.0</td>\n",
       "      <td>PHI</td>\n",
       "      <td>38.0</td>\n",
       "      <td>NaN</td>\n",
       "      <td>552.0</td>\n",
       "      <td>14.5</td>\n",
       "      <td>...</td>\n",
       "      <td>0.714</td>\n",
       "      <td>NaN</td>\n",
       "      <td>NaN</td>\n",
       "      <td>216.0</td>\n",
       "      <td>32.0</td>\n",
       "      <td>NaN</td>\n",
       "      <td>NaN</td>\n",
       "      <td>NaN</td>\n",
       "      <td>87.0</td>\n",
       "      <td>222.0</td>\n",
       "    </tr>\n",
       "    <tr>\n",
       "      <th>2865</th>\n",
       "      <td>2865</td>\n",
       "      <td>1969.0</td>\n",
       "      <td>Tom Workman</td>\n",
       "      <td>F-C</td>\n",
       "      <td>24.0</td>\n",
       "      <td>BAL</td>\n",
       "      <td>21.0</td>\n",
       "      <td>NaN</td>\n",
       "      <td>86.0</td>\n",
       "      <td>14.1</td>\n",
       "      <td>...</td>\n",
       "      <td>0.600</td>\n",
       "      <td>NaN</td>\n",
       "      <td>NaN</td>\n",
       "      <td>27.0</td>\n",
       "      <td>2.0</td>\n",
       "      <td>NaN</td>\n",
       "      <td>NaN</td>\n",
       "      <td>NaN</td>\n",
       "      <td>16.0</td>\n",
       "      <td>53.0</td>\n",
       "    </tr>\n",
       "  </tbody>\n",
       "</table>\n",
       "<p>1397 rows × 53 columns</p>\n",
       "</div>"
      ],
      "text/plain": [
       "      Unnamed: 0    Year         Player  Pos   Age   Tm     G  GS      MP  \\\n",
       "1460        1460  1960.0    Gary Alcorn    C  23.0  DET  58.0 NaN   670.0   \n",
       "1461        1461  1960.0   Bob Anderegg   SF  22.0  NYK  33.0 NaN   373.0   \n",
       "1462        1462  1960.0   Paul Arizin*   SF  31.0  PHW  72.0 NaN  2618.0   \n",
       "1463        1463  1960.0   Dick Barnett   SG  23.0  SYR  57.0 NaN  1235.0   \n",
       "1464        1464  1960.0  Elgin Baylor*   SF  25.0  MNL  70.0 NaN  2873.0   \n",
       "...          ...     ...            ...  ...   ...  ...   ...  ..     ...   \n",
       "2861        2861  1969.0   Sam Williams   SG  24.0  MIL  55.0 NaN   628.0   \n",
       "2862        2862  1969.0  George Wilson    C  26.0  TOT  79.0 NaN  1846.0   \n",
       "2863        2863  1969.0  George Wilson    C  26.0  PHO  41.0 NaN  1294.0   \n",
       "2864        2864  1969.0  George Wilson    C  26.0  PHI  38.0 NaN   552.0   \n",
       "2865        2865  1969.0    Tom Workman  F-C  24.0  BAL  21.0 NaN    86.0   \n",
       "\n",
       "       PER  ...    FT%  ORB  DRB     TRB    AST  STL  BLK  TOV     PF     PTS  \n",
       "1460   7.6  ...  0.571  NaN  NaN   279.0   22.0  NaN  NaN  NaN  123.0   230.0  \n",
       "1461   9.3  ...  0.548  NaN  NaN    69.0   29.0  NaN  NaN  NaN   32.0   133.0  \n",
       "1462  17.2  ...  0.798  NaN  NaN   621.0  165.0  NaN  NaN  NaN  263.0  1606.0  \n",
       "1463  15.1  ...  0.711  NaN  NaN   155.0  160.0  NaN  NaN  NaN   98.0   706.0  \n",
       "1464  25.2  ...  0.732  NaN  NaN  1150.0  243.0  NaN  NaN  NaN  234.0  2074.0  \n",
       "...    ...  ...    ...  ...  ...     ...    ...  ...  ...  ...    ...     ...  \n",
       "2861   7.9  ...  0.537  NaN  NaN   109.0   61.0  NaN  NaN  NaN  106.0   228.0  \n",
       "2862  13.2  ...  0.651  NaN  NaN   721.0  108.0  NaN  NaN  NaN  232.0   697.0  \n",
       "2863  12.6  ...  0.616  NaN  NaN   505.0   76.0  NaN  NaN  NaN  145.0   475.0  \n",
       "2864  14.5  ...  0.714  NaN  NaN   216.0   32.0  NaN  NaN  NaN   87.0   222.0  \n",
       "2865  14.1  ...  0.600  NaN  NaN    27.0    2.0  NaN  NaN  NaN   16.0    53.0  \n",
       "\n",
       "[1397 rows x 53 columns]"
      ]
     },
     "execution_count": 6,
     "metadata": {},
     "output_type": "execute_result"
    }
   ],
   "source": [
    "Seasons_Stats = Seasons_Stats[Seasons_Stats['Year'].between (1960,1969)]\n",
    "Seasons_Stats"
   ]
  },
  {
   "cell_type": "code",
   "execution_count": 7,
   "id": "80b49074",
   "metadata": {},
   "outputs": [
    {
     "name": "stdout",
     "output_type": "stream",
     "text": [
      "<class 'pandas.core.frame.DataFrame'>\n",
      "Int64Index: 1397 entries, 1460 to 2865\n",
      "Data columns (total 53 columns):\n",
      " #   Column      Non-Null Count  Dtype  \n",
      "---  ------      --------------  -----  \n",
      " 0   Unnamed: 0  1397 non-null   int64  \n",
      " 1   Year        1397 non-null   float64\n",
      " 2   Player      1397 non-null   object \n",
      " 3   Pos         1397 non-null   object \n",
      " 4   Age         1397 non-null   float64\n",
      " 5   Tm          1397 non-null   object \n",
      " 6   G           1397 non-null   float64\n",
      " 7   GS          0 non-null      float64\n",
      " 8   MP          1397 non-null   float64\n",
      " 9   PER         1389 non-null   float64\n",
      " 10  TS%         1397 non-null   float64\n",
      " 11  3PAr        0 non-null      float64\n",
      " 12  FTr         1397 non-null   float64\n",
      " 13  ORB%        0 non-null      float64\n",
      " 14  DRB%        0 non-null      float64\n",
      " 15  TRB%        0 non-null      float64\n",
      " 16  AST%        783 non-null    float64\n",
      " 17  STL%        0 non-null      float64\n",
      " 18  BLK%        0 non-null      float64\n",
      " 19  TOV%        0 non-null      float64\n",
      " 20  USG%        0 non-null      float64\n",
      " 21  blanl       0 non-null      float64\n",
      " 22  OWS         1389 non-null   float64\n",
      " 23  DWS         1389 non-null   float64\n",
      " 24  WS          1389 non-null   float64\n",
      " 25  WS/48       1389 non-null   float64\n",
      " 26  blank2      0 non-null      float64\n",
      " 27  OBPM        0 non-null      float64\n",
      " 28  DBPM        0 non-null      float64\n",
      " 29  BPM         0 non-null      float64\n",
      " 30  VORP        0 non-null      float64\n",
      " 31  FG          1397 non-null   float64\n",
      " 32  FGA         1397 non-null   float64\n",
      " 33  FG%         1397 non-null   float64\n",
      " 34  3P          0 non-null      float64\n",
      " 35  3PA         0 non-null      float64\n",
      " 36  3P%         0 non-null      float64\n",
      " 37  2P          1397 non-null   float64\n",
      " 38  2PA         1397 non-null   float64\n",
      " 39  2P%         1397 non-null   float64\n",
      " 40  eFG%        1397 non-null   float64\n",
      " 41  FT          1397 non-null   float64\n",
      " 42  FTA         1397 non-null   float64\n",
      " 43  FT%         1372 non-null   float64\n",
      " 44  ORB         0 non-null      float64\n",
      " 45  DRB         0 non-null      float64\n",
      " 46  TRB         1397 non-null   float64\n",
      " 47  AST         1397 non-null   float64\n",
      " 48  STL         0 non-null      float64\n",
      " 49  BLK         0 non-null      float64\n",
      " 50  TOV         0 non-null      float64\n",
      " 51  PF          1397 non-null   float64\n",
      " 52  PTS         1397 non-null   float64\n",
      "dtypes: float64(49), int64(1), object(3)\n",
      "memory usage: 589.4+ KB\n"
     ]
    }
   ],
   "source": [
    "Seasons_Stats.info()"
   ]
  },
  {
   "cell_type": "code",
   "execution_count": 8,
   "id": "fa4bde05",
   "metadata": {},
   "outputs": [
    {
     "data": {
      "text/html": [
       "<div>\n",
       "<style scoped>\n",
       "    .dataframe tbody tr th:only-of-type {\n",
       "        vertical-align: middle;\n",
       "    }\n",
       "\n",
       "    .dataframe tbody tr th {\n",
       "        vertical-align: top;\n",
       "    }\n",
       "\n",
       "    .dataframe thead th {\n",
       "        text-align: right;\n",
       "    }\n",
       "</style>\n",
       "<table border=\"1\" class=\"dataframe\">\n",
       "  <thead>\n",
       "    <tr style=\"text-align: right;\">\n",
       "      <th></th>\n",
       "      <th>Year</th>\n",
       "      <th>Player</th>\n",
       "      <th>Pos</th>\n",
       "      <th>Age</th>\n",
       "      <th>Tm</th>\n",
       "      <th>G</th>\n",
       "      <th>GS</th>\n",
       "      <th>MP</th>\n",
       "      <th>PER</th>\n",
       "      <th>TS%</th>\n",
       "      <th>...</th>\n",
       "      <th>FT%</th>\n",
       "      <th>ORB</th>\n",
       "      <th>DRB</th>\n",
       "      <th>TRB</th>\n",
       "      <th>AST</th>\n",
       "      <th>STL</th>\n",
       "      <th>BLK</th>\n",
       "      <th>TOV</th>\n",
       "      <th>PF</th>\n",
       "      <th>PTS</th>\n",
       "    </tr>\n",
       "  </thead>\n",
       "  <tbody>\n",
       "    <tr>\n",
       "      <th>1460</th>\n",
       "      <td>1960.0</td>\n",
       "      <td>Gary Alcorn</td>\n",
       "      <td>C</td>\n",
       "      <td>23.0</td>\n",
       "      <td>DET</td>\n",
       "      <td>58.0</td>\n",
       "      <td>NaN</td>\n",
       "      <td>670.0</td>\n",
       "      <td>7.6</td>\n",
       "      <td>0.330</td>\n",
       "      <td>...</td>\n",
       "      <td>0.571</td>\n",
       "      <td>NaN</td>\n",
       "      <td>NaN</td>\n",
       "      <td>279.0</td>\n",
       "      <td>22.0</td>\n",
       "      <td>NaN</td>\n",
       "      <td>NaN</td>\n",
       "      <td>NaN</td>\n",
       "      <td>123.0</td>\n",
       "      <td>230.0</td>\n",
       "    </tr>\n",
       "    <tr>\n",
       "      <th>1461</th>\n",
       "      <td>1960.0</td>\n",
       "      <td>Bob Anderegg</td>\n",
       "      <td>SF</td>\n",
       "      <td>22.0</td>\n",
       "      <td>NYK</td>\n",
       "      <td>33.0</td>\n",
       "      <td>NaN</td>\n",
       "      <td>373.0</td>\n",
       "      <td>9.3</td>\n",
       "      <td>0.412</td>\n",
       "      <td>...</td>\n",
       "      <td>0.548</td>\n",
       "      <td>NaN</td>\n",
       "      <td>NaN</td>\n",
       "      <td>69.0</td>\n",
       "      <td>29.0</td>\n",
       "      <td>NaN</td>\n",
       "      <td>NaN</td>\n",
       "      <td>NaN</td>\n",
       "      <td>32.0</td>\n",
       "      <td>133.0</td>\n",
       "    </tr>\n",
       "    <tr>\n",
       "      <th>1462</th>\n",
       "      <td>1960.0</td>\n",
       "      <td>Paul Arizin*</td>\n",
       "      <td>SF</td>\n",
       "      <td>31.0</td>\n",
       "      <td>PHW</td>\n",
       "      <td>72.0</td>\n",
       "      <td>NaN</td>\n",
       "      <td>2618.0</td>\n",
       "      <td>17.2</td>\n",
       "      <td>0.492</td>\n",
       "      <td>...</td>\n",
       "      <td>0.798</td>\n",
       "      <td>NaN</td>\n",
       "      <td>NaN</td>\n",
       "      <td>621.0</td>\n",
       "      <td>165.0</td>\n",
       "      <td>NaN</td>\n",
       "      <td>NaN</td>\n",
       "      <td>NaN</td>\n",
       "      <td>263.0</td>\n",
       "      <td>1606.0</td>\n",
       "    </tr>\n",
       "    <tr>\n",
       "      <th>1463</th>\n",
       "      <td>1960.0</td>\n",
       "      <td>Dick Barnett</td>\n",
       "      <td>SG</td>\n",
       "      <td>23.0</td>\n",
       "      <td>SYR</td>\n",
       "      <td>57.0</td>\n",
       "      <td>NaN</td>\n",
       "      <td>1235.0</td>\n",
       "      <td>15.1</td>\n",
       "      <td>0.452</td>\n",
       "      <td>...</td>\n",
       "      <td>0.711</td>\n",
       "      <td>NaN</td>\n",
       "      <td>NaN</td>\n",
       "      <td>155.0</td>\n",
       "      <td>160.0</td>\n",
       "      <td>NaN</td>\n",
       "      <td>NaN</td>\n",
       "      <td>NaN</td>\n",
       "      <td>98.0</td>\n",
       "      <td>706.0</td>\n",
       "    </tr>\n",
       "    <tr>\n",
       "      <th>1464</th>\n",
       "      <td>1960.0</td>\n",
       "      <td>Elgin Baylor*</td>\n",
       "      <td>SF</td>\n",
       "      <td>25.0</td>\n",
       "      <td>MNL</td>\n",
       "      <td>70.0</td>\n",
       "      <td>NaN</td>\n",
       "      <td>2873.0</td>\n",
       "      <td>25.2</td>\n",
       "      <td>0.489</td>\n",
       "      <td>...</td>\n",
       "      <td>0.732</td>\n",
       "      <td>NaN</td>\n",
       "      <td>NaN</td>\n",
       "      <td>1150.0</td>\n",
       "      <td>243.0</td>\n",
       "      <td>NaN</td>\n",
       "      <td>NaN</td>\n",
       "      <td>NaN</td>\n",
       "      <td>234.0</td>\n",
       "      <td>2074.0</td>\n",
       "    </tr>\n",
       "  </tbody>\n",
       "</table>\n",
       "<p>5 rows × 52 columns</p>\n",
       "</div>"
      ],
      "text/plain": [
       "        Year         Player Pos   Age   Tm     G  GS      MP   PER    TS%  \\\n",
       "1460  1960.0    Gary Alcorn   C  23.0  DET  58.0 NaN   670.0   7.6  0.330   \n",
       "1461  1960.0   Bob Anderegg  SF  22.0  NYK  33.0 NaN   373.0   9.3  0.412   \n",
       "1462  1960.0   Paul Arizin*  SF  31.0  PHW  72.0 NaN  2618.0  17.2  0.492   \n",
       "1463  1960.0   Dick Barnett  SG  23.0  SYR  57.0 NaN  1235.0  15.1  0.452   \n",
       "1464  1960.0  Elgin Baylor*  SF  25.0  MNL  70.0 NaN  2873.0  25.2  0.489   \n",
       "\n",
       "      ...    FT%  ORB  DRB     TRB    AST  STL  BLK  TOV     PF     PTS  \n",
       "1460  ...  0.571  NaN  NaN   279.0   22.0  NaN  NaN  NaN  123.0   230.0  \n",
       "1461  ...  0.548  NaN  NaN    69.0   29.0  NaN  NaN  NaN   32.0   133.0  \n",
       "1462  ...  0.798  NaN  NaN   621.0  165.0  NaN  NaN  NaN  263.0  1606.0  \n",
       "1463  ...  0.711  NaN  NaN   155.0  160.0  NaN  NaN  NaN   98.0   706.0  \n",
       "1464  ...  0.732  NaN  NaN  1150.0  243.0  NaN  NaN  NaN  234.0  2074.0  \n",
       "\n",
       "[5 rows x 52 columns]"
      ]
     },
     "execution_count": 8,
     "metadata": {},
     "output_type": "execute_result"
    }
   ],
   "source": [
    "Seasons_Stats= Seasons_Stats.drop(['Unnamed: 0'], axis=1)\n",
    "Seasons_Stats.head()"
   ]
  },
  {
   "cell_type": "code",
   "execution_count": 9,
   "id": "f49579b5",
   "metadata": {},
   "outputs": [
    {
     "name": "stdout",
     "output_type": "stream",
     "text": [
      "<class 'pandas.core.frame.DataFrame'>\n",
      "Int64Index: 1397 entries, 1460 to 2865\n",
      "Data columns (total 52 columns):\n",
      " #   Column  Non-Null Count  Dtype  \n",
      "---  ------  --------------  -----  \n",
      " 0   Year    1397 non-null   float64\n",
      " 1   Player  1397 non-null   object \n",
      " 2   Pos     1397 non-null   object \n",
      " 3   Age     1397 non-null   float64\n",
      " 4   Tm      1397 non-null   object \n",
      " 5   G       1397 non-null   float64\n",
      " 6   GS      0 non-null      float64\n",
      " 7   MP      1397 non-null   float64\n",
      " 8   PER     1389 non-null   float64\n",
      " 9   TS%     1397 non-null   float64\n",
      " 10  3PAr    0 non-null      float64\n",
      " 11  FTr     1397 non-null   float64\n",
      " 12  ORB%    0 non-null      float64\n",
      " 13  DRB%    0 non-null      float64\n",
      " 14  TRB%    0 non-null      float64\n",
      " 15  AST%    783 non-null    float64\n",
      " 16  STL%    0 non-null      float64\n",
      " 17  BLK%    0 non-null      float64\n",
      " 18  TOV%    0 non-null      float64\n",
      " 19  USG%    0 non-null      float64\n",
      " 20  blanl   0 non-null      float64\n",
      " 21  OWS     1389 non-null   float64\n",
      " 22  DWS     1389 non-null   float64\n",
      " 23  WS      1389 non-null   float64\n",
      " 24  WS/48   1389 non-null   float64\n",
      " 25  blank2  0 non-null      float64\n",
      " 26  OBPM    0 non-null      float64\n",
      " 27  DBPM    0 non-null      float64\n",
      " 28  BPM     0 non-null      float64\n",
      " 29  VORP    0 non-null      float64\n",
      " 30  FG      1397 non-null   float64\n",
      " 31  FGA     1397 non-null   float64\n",
      " 32  FG%     1397 non-null   float64\n",
      " 33  3P      0 non-null      float64\n",
      " 34  3PA     0 non-null      float64\n",
      " 35  3P%     0 non-null      float64\n",
      " 36  2P      1397 non-null   float64\n",
      " 37  2PA     1397 non-null   float64\n",
      " 38  2P%     1397 non-null   float64\n",
      " 39  eFG%    1397 non-null   float64\n",
      " 40  FT      1397 non-null   float64\n",
      " 41  FTA     1397 non-null   float64\n",
      " 42  FT%     1372 non-null   float64\n",
      " 43  ORB     0 non-null      float64\n",
      " 44  DRB     0 non-null      float64\n",
      " 45  TRB     1397 non-null   int64  \n",
      " 46  AST     1397 non-null   int64  \n",
      " 47  STL     0 non-null      float64\n",
      " 48  BLK     0 non-null      float64\n",
      " 49  TOV     0 non-null      float64\n",
      " 50  PF      1397 non-null   float64\n",
      " 51  PTS     1397 non-null   int64  \n",
      "dtypes: float64(46), int64(3), object(3)\n",
      "memory usage: 578.4+ KB\n"
     ]
    }
   ],
   "source": [
    "Seasons_Stats = Seasons_Stats.astype({\"AST\": 'int64', \"TRB\":'int64', \"PTS\":'int64'})\n",
    "Seasons_Stats.info()"
   ]
  },
  {
   "cell_type": "code",
   "execution_count": 10,
   "id": "6878279f",
   "metadata": {},
   "outputs": [
    {
     "data": {
      "text/plain": [
       "Index(['Year', 'Player', 'Pos', 'Age', 'Tm', 'G', 'GS', 'MP', 'PER', 'TS%',\n",
       "       '3PAr', 'FTr', 'ORB%', 'DRB%', 'TRB%', 'AST%', 'STL%', 'BLK%', 'TOV%',\n",
       "       'USG%', 'blanl', 'OWS', 'DWS', 'WS', 'WS/48', 'blank2', 'OBPM', 'DBPM',\n",
       "       'BPM', 'VORP', 'FG', 'FGA', 'FG%', '3P', '3PA', '3P%', '2P', '2PA',\n",
       "       '2P%', 'eFG%', 'FT', 'FTA', 'FT%', 'ORB', 'DRB', 'TRB', 'AST', 'STL',\n",
       "       'BLK', 'TOV', 'PF', 'PTS'],\n",
       "      dtype='object')"
      ]
     },
     "execution_count": 10,
     "metadata": {},
     "output_type": "execute_result"
    }
   ],
   "source": [
    "Seasons_Stats.columns"
   ]
  },
  {
   "cell_type": "code",
   "execution_count": 28,
   "id": "c9a58d0e",
   "metadata": {},
   "outputs": [
    {
     "data": {
      "text/html": [
       "<div>\n",
       "<style scoped>\n",
       "    .dataframe tbody tr th:only-of-type {\n",
       "        vertical-align: middle;\n",
       "    }\n",
       "\n",
       "    .dataframe tbody tr th {\n",
       "        vertical-align: top;\n",
       "    }\n",
       "\n",
       "    .dataframe thead th {\n",
       "        text-align: right;\n",
       "    }\n",
       "</style>\n",
       "<table border=\"1\" class=\"dataframe\">\n",
       "  <thead>\n",
       "    <tr style=\"text-align: right;\">\n",
       "      <th></th>\n",
       "      <th>Player</th>\n",
       "      <th>Year</th>\n",
       "      <th>Age</th>\n",
       "      <th>G</th>\n",
       "      <th>GS</th>\n",
       "      <th>MP</th>\n",
       "      <th>PER</th>\n",
       "      <th>TS%</th>\n",
       "      <th>3PAr</th>\n",
       "      <th>FTr</th>\n",
       "      <th>...</th>\n",
       "      <th>FT%</th>\n",
       "      <th>ORB</th>\n",
       "      <th>DRB</th>\n",
       "      <th>TRB</th>\n",
       "      <th>AST</th>\n",
       "      <th>STL</th>\n",
       "      <th>BLK</th>\n",
       "      <th>TOV</th>\n",
       "      <th>PF</th>\n",
       "      <th>PTS</th>\n",
       "    </tr>\n",
       "  </thead>\n",
       "  <tbody>\n",
       "    <tr>\n",
       "      <th>0</th>\n",
       "      <td>Adrian Smith</td>\n",
       "      <td>15724.0</td>\n",
       "      <td>228.0</td>\n",
       "      <td>621.0</td>\n",
       "      <td>0.0</td>\n",
       "      <td>16990.0</td>\n",
       "      <td>98.6</td>\n",
       "      <td>4.044</td>\n",
       "      <td>0.0</td>\n",
       "      <td>3.179</td>\n",
       "      <td>...</td>\n",
       "      <td>6.587</td>\n",
       "      <td>0.0</td>\n",
       "      <td>0.0</td>\n",
       "      <td>1474</td>\n",
       "      <td>1535</td>\n",
       "      <td>0.0</td>\n",
       "      <td>0.0</td>\n",
       "      <td>0.0</td>\n",
       "      <td>1594.0</td>\n",
       "      <td>7913</td>\n",
       "    </tr>\n",
       "    <tr>\n",
       "      <th>1</th>\n",
       "      <td>Al Attles</td>\n",
       "      <td>17685.0</td>\n",
       "      <td>252.0</td>\n",
       "      <td>632.0</td>\n",
       "      <td>0.0</td>\n",
       "      <td>16829.0</td>\n",
       "      <td>101.5</td>\n",
       "      <td>4.402</td>\n",
       "      <td>0.0</td>\n",
       "      <td>3.324</td>\n",
       "      <td>...</td>\n",
       "      <td>5.660</td>\n",
       "      <td>0.0</td>\n",
       "      <td>0.0</td>\n",
       "      <td>2349</td>\n",
       "      <td>2283</td>\n",
       "      <td>0.0</td>\n",
       "      <td>0.0</td>\n",
       "      <td>0.0</td>\n",
       "      <td>2255.0</td>\n",
       "      <td>6029</td>\n",
       "    </tr>\n",
       "    <tr>\n",
       "      <th>2</th>\n",
       "      <td>Al Bianchi</td>\n",
       "      <td>13741.0</td>\n",
       "      <td>210.0</td>\n",
       "      <td>478.0</td>\n",
       "      <td>0.0</td>\n",
       "      <td>8872.0</td>\n",
       "      <td>65.6</td>\n",
       "      <td>2.933</td>\n",
       "      <td>0.0</td>\n",
       "      <td>1.666</td>\n",
       "      <td>...</td>\n",
       "      <td>4.979</td>\n",
       "      <td>0.0</td>\n",
       "      <td>0.0</td>\n",
       "      <td>1075</td>\n",
       "      <td>1118</td>\n",
       "      <td>0.0</td>\n",
       "      <td>0.0</td>\n",
       "      <td>0.0</td>\n",
       "      <td>1423.0</td>\n",
       "      <td>3698</td>\n",
       "    </tr>\n",
       "    <tr>\n",
       "      <th>3</th>\n",
       "      <td>Al Butler</td>\n",
       "      <td>11778.0</td>\n",
       "      <td>144.0</td>\n",
       "      <td>293.0</td>\n",
       "      <td>0.0</td>\n",
       "      <td>7071.0</td>\n",
       "      <td>75.8</td>\n",
       "      <td>2.811</td>\n",
       "      <td>0.0</td>\n",
       "      <td>1.477</td>\n",
       "      <td>...</td>\n",
       "      <td>4.488</td>\n",
       "      <td>0.0</td>\n",
       "      <td>0.0</td>\n",
       "      <td>1033</td>\n",
       "      <td>735</td>\n",
       "      <td>0.0</td>\n",
       "      <td>0.0</td>\n",
       "      <td>0.0</td>\n",
       "      <td>649.0</td>\n",
       "      <td>3109</td>\n",
       "    </tr>\n",
       "    <tr>\n",
       "      <th>4</th>\n",
       "      <td>Al Ferrari</td>\n",
       "      <td>7846.0</td>\n",
       "      <td>110.0</td>\n",
       "      <td>231.0</td>\n",
       "      <td>0.0</td>\n",
       "      <td>4782.0</td>\n",
       "      <td>34.4</td>\n",
       "      <td>1.786</td>\n",
       "      <td>0.0</td>\n",
       "      <td>1.619</td>\n",
       "      <td>...</td>\n",
       "      <td>3.224</td>\n",
       "      <td>0.0</td>\n",
       "      <td>0.0</td>\n",
       "      <td>502</td>\n",
       "      <td>658</td>\n",
       "      <td>0.0</td>\n",
       "      <td>0.0</td>\n",
       "      <td>0.0</td>\n",
       "      <td>661.0</td>\n",
       "      <td>1566</td>\n",
       "    </tr>\n",
       "    <tr>\n",
       "      <th>...</th>\n",
       "      <td>...</td>\n",
       "      <td>...</td>\n",
       "      <td>...</td>\n",
       "      <td>...</td>\n",
       "      <td>...</td>\n",
       "      <td>...</td>\n",
       "      <td>...</td>\n",
       "      <td>...</td>\n",
       "      <td>...</td>\n",
       "      <td>...</td>\n",
       "      <td>...</td>\n",
       "      <td>...</td>\n",
       "      <td>...</td>\n",
       "      <td>...</td>\n",
       "      <td>...</td>\n",
       "      <td>...</td>\n",
       "      <td>...</td>\n",
       "      <td>...</td>\n",
       "      <td>...</td>\n",
       "      <td>...</td>\n",
       "      <td>...</td>\n",
       "    </tr>\n",
       "    <tr>\n",
       "      <th>376</th>\n",
       "      <td>Win Wilfong</td>\n",
       "      <td>3921.0</td>\n",
       "      <td>53.0</td>\n",
       "      <td>134.0</td>\n",
       "      <td>0.0</td>\n",
       "      <td>2709.0</td>\n",
       "      <td>20.7</td>\n",
       "      <td>0.838</td>\n",
       "      <td>0.0</td>\n",
       "      <td>0.563</td>\n",
       "      <td>...</td>\n",
       "      <td>1.587</td>\n",
       "      <td>0.0</td>\n",
       "      <td>0.0</td>\n",
       "      <td>499</td>\n",
       "      <td>352</td>\n",
       "      <td>0.0</td>\n",
       "      <td>0.0</td>\n",
       "      <td>0.0</td>\n",
       "      <td>348.0</td>\n",
       "      <td>1011</td>\n",
       "    </tr>\n",
       "    <tr>\n",
       "      <th>377</th>\n",
       "      <td>Woody Sauldsberry</td>\n",
       "      <td>13738.0</td>\n",
       "      <td>193.0</td>\n",
       "      <td>396.0</td>\n",
       "      <td>0.0</td>\n",
       "      <td>9702.0</td>\n",
       "      <td>43.2</td>\n",
       "      <td>2.552</td>\n",
       "      <td>0.0</td>\n",
       "      <td>0.989</td>\n",
       "      <td>...</td>\n",
       "      <td>4.122</td>\n",
       "      <td>0.0</td>\n",
       "      <td>0.0</td>\n",
       "      <td>2510</td>\n",
       "      <td>447</td>\n",
       "      <td>0.0</td>\n",
       "      <td>0.0</td>\n",
       "      <td>0.0</td>\n",
       "      <td>1133.0</td>\n",
       "      <td>3745</td>\n",
       "    </tr>\n",
       "    <tr>\n",
       "      <th>378</th>\n",
       "      <td>York Larese</td>\n",
       "      <td>5886.0</td>\n",
       "      <td>69.0</td>\n",
       "      <td>118.0</td>\n",
       "      <td>0.0</td>\n",
       "      <td>1406.0</td>\n",
       "      <td>31.2</td>\n",
       "      <td>1.337</td>\n",
       "      <td>0.0</td>\n",
       "      <td>0.855</td>\n",
       "      <td>...</td>\n",
       "      <td>2.203</td>\n",
       "      <td>0.0</td>\n",
       "      <td>0.0</td>\n",
       "      <td>154</td>\n",
       "      <td>188</td>\n",
       "      <td>0.0</td>\n",
       "      <td>0.0</td>\n",
       "      <td>0.0</td>\n",
       "      <td>208.0</td>\n",
       "      <td>604</td>\n",
       "    </tr>\n",
       "    <tr>\n",
       "      <th>379</th>\n",
       "      <td>Zaid Abdul-Aziz</td>\n",
       "      <td>5907.0</td>\n",
       "      <td>66.0</td>\n",
       "      <td>98.0</td>\n",
       "      <td>0.0</td>\n",
       "      <td>1890.0</td>\n",
       "      <td>33.6</td>\n",
       "      <td>1.225</td>\n",
       "      <td>0.0</td>\n",
       "      <td>0.758</td>\n",
       "      <td>...</td>\n",
       "      <td>1.547</td>\n",
       "      <td>0.0</td>\n",
       "      <td>0.0</td>\n",
       "      <td>818</td>\n",
       "      <td>74</td>\n",
       "      <td>0.0</td>\n",
       "      <td>0.0</td>\n",
       "      <td>0.0</td>\n",
       "      <td>230.0</td>\n",
       "      <td>716</td>\n",
       "    </tr>\n",
       "    <tr>\n",
       "      <th>380</th>\n",
       "      <td>Zelmo Beaty*</td>\n",
       "      <td>13762.0</td>\n",
       "      <td>182.0</td>\n",
       "      <td>501.0</td>\n",
       "      <td>0.0</td>\n",
       "      <td>17135.0</td>\n",
       "      <td>118.9</td>\n",
       "      <td>3.686</td>\n",
       "      <td>0.0</td>\n",
       "      <td>2.972</td>\n",
       "      <td>...</td>\n",
       "      <td>5.214</td>\n",
       "      <td>0.0</td>\n",
       "      <td>0.0</td>\n",
       "      <td>5622</td>\n",
       "      <td>765</td>\n",
       "      <td>0.0</td>\n",
       "      <td>0.0</td>\n",
       "      <td>0.0</td>\n",
       "      <td>2002.0</td>\n",
       "      <td>8727</td>\n",
       "    </tr>\n",
       "  </tbody>\n",
       "</table>\n",
       "<p>381 rows × 50 columns</p>\n",
       "</div>"
      ],
      "text/plain": [
       "                Player     Year    Age      G   GS       MP    PER    TS%  \\\n",
       "0         Adrian Smith  15724.0  228.0  621.0  0.0  16990.0   98.6  4.044   \n",
       "1            Al Attles  17685.0  252.0  632.0  0.0  16829.0  101.5  4.402   \n",
       "2           Al Bianchi  13741.0  210.0  478.0  0.0   8872.0   65.6  2.933   \n",
       "3            Al Butler  11778.0  144.0  293.0  0.0   7071.0   75.8  2.811   \n",
       "4           Al Ferrari   7846.0  110.0  231.0  0.0   4782.0   34.4  1.786   \n",
       "..                 ...      ...    ...    ...  ...      ...    ...    ...   \n",
       "376        Win Wilfong   3921.0   53.0  134.0  0.0   2709.0   20.7  0.838   \n",
       "377  Woody Sauldsberry  13738.0  193.0  396.0  0.0   9702.0   43.2  2.552   \n",
       "378        York Larese   5886.0   69.0  118.0  0.0   1406.0   31.2  1.337   \n",
       "379    Zaid Abdul-Aziz   5907.0   66.0   98.0  0.0   1890.0   33.6  1.225   \n",
       "380       Zelmo Beaty*  13762.0  182.0  501.0  0.0  17135.0  118.9  3.686   \n",
       "\n",
       "     3PAr    FTr  ...    FT%  ORB  DRB   TRB   AST  STL  BLK  TOV      PF  \\\n",
       "0     0.0  3.179  ...  6.587  0.0  0.0  1474  1535  0.0  0.0  0.0  1594.0   \n",
       "1     0.0  3.324  ...  5.660  0.0  0.0  2349  2283  0.0  0.0  0.0  2255.0   \n",
       "2     0.0  1.666  ...  4.979  0.0  0.0  1075  1118  0.0  0.0  0.0  1423.0   \n",
       "3     0.0  1.477  ...  4.488  0.0  0.0  1033   735  0.0  0.0  0.0   649.0   \n",
       "4     0.0  1.619  ...  3.224  0.0  0.0   502   658  0.0  0.0  0.0   661.0   \n",
       "..    ...    ...  ...    ...  ...  ...   ...   ...  ...  ...  ...     ...   \n",
       "376   0.0  0.563  ...  1.587  0.0  0.0   499   352  0.0  0.0  0.0   348.0   \n",
       "377   0.0  0.989  ...  4.122  0.0  0.0  2510   447  0.0  0.0  0.0  1133.0   \n",
       "378   0.0  0.855  ...  2.203  0.0  0.0   154   188  0.0  0.0  0.0   208.0   \n",
       "379   0.0  0.758  ...  1.547  0.0  0.0   818    74  0.0  0.0  0.0   230.0   \n",
       "380   0.0  2.972  ...  5.214  0.0  0.0  5622   765  0.0  0.0  0.0  2002.0   \n",
       "\n",
       "      PTS  \n",
       "0    7913  \n",
       "1    6029  \n",
       "2    3698  \n",
       "3    3109  \n",
       "4    1566  \n",
       "..    ...  \n",
       "376  1011  \n",
       "377  3745  \n",
       "378   604  \n",
       "379   716  \n",
       "380  8727  \n",
       "\n",
       "[381 rows x 50 columns]"
      ]
     },
     "execution_count": 28,
     "metadata": {},
     "output_type": "execute_result"
    }
   ],
   "source": [
    "Stats_by_Player_total = Seasons_Stats.groupby(['Player'], as_index=False).sum()\n",
    "Stats_by_Player_total"
   ]
  },
  {
   "cell_type": "code",
   "execution_count": 33,
   "id": "d2dec6c1",
   "metadata": {},
   "outputs": [
    {
     "data": {
      "text/html": [
       "<div>\n",
       "<style scoped>\n",
       "    .dataframe tbody tr th:only-of-type {\n",
       "        vertical-align: middle;\n",
       "    }\n",
       "\n",
       "    .dataframe tbody tr th {\n",
       "        vertical-align: top;\n",
       "    }\n",
       "\n",
       "    .dataframe thead th {\n",
       "        text-align: right;\n",
       "    }\n",
       "</style>\n",
       "<table border=\"1\" class=\"dataframe\">\n",
       "  <thead>\n",
       "    <tr style=\"text-align: right;\">\n",
       "      <th></th>\n",
       "      <th>Player</th>\n",
       "      <th>Year</th>\n",
       "      <th>Age</th>\n",
       "      <th>G</th>\n",
       "      <th>GS</th>\n",
       "      <th>MP</th>\n",
       "      <th>PER</th>\n",
       "      <th>TS%</th>\n",
       "      <th>3PAr</th>\n",
       "      <th>FTr</th>\n",
       "      <th>...</th>\n",
       "      <th>FT%</th>\n",
       "      <th>ORB</th>\n",
       "      <th>DRB</th>\n",
       "      <th>TRB</th>\n",
       "      <th>AST</th>\n",
       "      <th>STL</th>\n",
       "      <th>BLK</th>\n",
       "      <th>TOV</th>\n",
       "      <th>PF</th>\n",
       "      <th>PTS</th>\n",
       "    </tr>\n",
       "  </thead>\n",
       "  <tbody>\n",
       "    <tr>\n",
       "      <th>278</th>\n",
       "      <td>Oscar Robertson*</td>\n",
       "      <td>17685.0</td>\n",
       "      <td>234.0</td>\n",
       "      <td>683.0</td>\n",
       "      <td>0.0</td>\n",
       "      <td>30223.0</td>\n",
       "      <td>227.9</td>\n",
       "      <td>5.147</td>\n",
       "      <td>0.0</td>\n",
       "      <td>4.540</td>\n",
       "      <td>...</td>\n",
       "      <td>7.553</td>\n",
       "      <td>0.0</td>\n",
       "      <td>0.0</td>\n",
       "      <td>5958</td>\n",
       "      <td>7173</td>\n",
       "      <td>0.0</td>\n",
       "      <td>0.0</td>\n",
       "      <td>0.0</td>\n",
       "      <td>2138.0</td>\n",
       "      <td>20261</td>\n",
       "    </tr>\n",
       "    <tr>\n",
       "      <th>165</th>\n",
       "      <td>Guy Rodgers*</td>\n",
       "      <td>23581.0</td>\n",
       "      <td>349.0</td>\n",
       "      <td>862.0</td>\n",
       "      <td>0.0</td>\n",
       "      <td>27895.0</td>\n",
       "      <td>154.4</td>\n",
       "      <td>5.009</td>\n",
       "      <td>0.0</td>\n",
       "      <td>3.277</td>\n",
       "      <td>...</td>\n",
       "      <td>8.837</td>\n",
       "      <td>0.0</td>\n",
       "      <td>0.0</td>\n",
       "      <td>3586</td>\n",
       "      <td>6823</td>\n",
       "      <td>0.0</td>\n",
       "      <td>0.0</td>\n",
       "      <td>0.0</td>\n",
       "      <td>2592.0</td>\n",
       "      <td>10132</td>\n",
       "    </tr>\n",
       "    <tr>\n",
       "      <th>375</th>\n",
       "      <td>Wilt Chamberlain*</td>\n",
       "      <td>23575.0</td>\n",
       "      <td>331.0</td>\n",
       "      <td>860.0</td>\n",
       "      <td>0.0</td>\n",
       "      <td>40014.0</td>\n",
       "      <td>338.0</td>\n",
       "      <td>6.488</td>\n",
       "      <td>0.0</td>\n",
       "      <td>6.125</td>\n",
       "      <td>...</td>\n",
       "      <td>6.009</td>\n",
       "      <td>0.0</td>\n",
       "      <td>0.0</td>\n",
       "      <td>20785</td>\n",
       "      <td>3798</td>\n",
       "      <td>0.0</td>\n",
       "      <td>0.0</td>\n",
       "      <td>0.0</td>\n",
       "      <td>1629.0</td>\n",
       "      <td>29632</td>\n",
       "    </tr>\n",
       "    <tr>\n",
       "      <th>256</th>\n",
       "      <td>Lenny Wilkens*</td>\n",
       "      <td>17685.0</td>\n",
       "      <td>243.0</td>\n",
       "      <td>637.0</td>\n",
       "      <td>0.0</td>\n",
       "      <td>23015.0</td>\n",
       "      <td>134.3</td>\n",
       "      <td>4.448</td>\n",
       "      <td>0.0</td>\n",
       "      <td>4.229</td>\n",
       "      <td>...</td>\n",
       "      <td>6.777</td>\n",
       "      <td>0.0</td>\n",
       "      <td>0.0</td>\n",
       "      <td>3252</td>\n",
       "      <td>3723</td>\n",
       "      <td>0.0</td>\n",
       "      <td>0.0</td>\n",
       "      <td>0.0</td>\n",
       "      <td>2181.0</td>\n",
       "      <td>10426</td>\n",
       "    </tr>\n",
       "    <tr>\n",
       "      <th>303</th>\n",
       "      <td>Richie Guerin*</td>\n",
       "      <td>21605.0</td>\n",
       "      <td>342.0</td>\n",
       "      <td>714.0</td>\n",
       "      <td>0.0</td>\n",
       "      <td>23032.0</td>\n",
       "      <td>202.8</td>\n",
       "      <td>5.767</td>\n",
       "      <td>0.0</td>\n",
       "      <td>5.019</td>\n",
       "      <td>...</td>\n",
       "      <td>8.750</td>\n",
       "      <td>0.0</td>\n",
       "      <td>0.0</td>\n",
       "      <td>3191</td>\n",
       "      <td>3711</td>\n",
       "      <td>0.0</td>\n",
       "      <td>0.0</td>\n",
       "      <td>0.0</td>\n",
       "      <td>2393.0</td>\n",
       "      <td>12691</td>\n",
       "    </tr>\n",
       "    <tr>\n",
       "      <th>29</th>\n",
       "      <td>Bill Russell*</td>\n",
       "      <td>19645.0</td>\n",
       "      <td>295.0</td>\n",
       "      <td>776.0</td>\n",
       "      <td>0.0</td>\n",
       "      <td>33412.0</td>\n",
       "      <td>182.7</td>\n",
       "      <td>4.712</td>\n",
       "      <td>0.0</td>\n",
       "      <td>4.461</td>\n",
       "      <td>...</td>\n",
       "      <td>5.659</td>\n",
       "      <td>0.0</td>\n",
       "      <td>0.0</td>\n",
       "      <td>17501</td>\n",
       "      <td>3588</td>\n",
       "      <td>0.0</td>\n",
       "      <td>0.0</td>\n",
       "      <td>0.0</td>\n",
       "      <td>2107.0</td>\n",
       "      <td>11506</td>\n",
       "    </tr>\n",
       "    <tr>\n",
       "      <th>198</th>\n",
       "      <td>Jerry West*</td>\n",
       "      <td>17685.0</td>\n",
       "      <td>234.0</td>\n",
       "      <td>612.0</td>\n",
       "      <td>0.0</td>\n",
       "      <td>24220.0</td>\n",
       "      <td>202.5</td>\n",
       "      <td>4.928</td>\n",
       "      <td>0.0</td>\n",
       "      <td>4.333</td>\n",
       "      <td>...</td>\n",
       "      <td>7.236</td>\n",
       "      <td>0.0</td>\n",
       "      <td>0.0</td>\n",
       "      <td>3976</td>\n",
       "      <td>3469</td>\n",
       "      <td>0.0</td>\n",
       "      <td>0.0</td>\n",
       "      <td>0.0</td>\n",
       "      <td>1668.0</td>\n",
       "      <td>16835</td>\n",
       "    </tr>\n",
       "    <tr>\n",
       "      <th>167</th>\n",
       "      <td>Hal Greer*</td>\n",
       "      <td>19645.0</td>\n",
       "      <td>275.0</td>\n",
       "      <td>774.0</td>\n",
       "      <td>0.0</td>\n",
       "      <td>28821.0</td>\n",
       "      <td>164.1</td>\n",
       "      <td>5.100</td>\n",
       "      <td>0.0</td>\n",
       "      <td>3.100</td>\n",
       "      <td>...</td>\n",
       "      <td>8.007</td>\n",
       "      <td>0.0</td>\n",
       "      <td>0.0</td>\n",
       "      <td>4352</td>\n",
       "      <td>3238</td>\n",
       "      <td>0.0</td>\n",
       "      <td>0.0</td>\n",
       "      <td>0.0</td>\n",
       "      <td>2733.0</td>\n",
       "      <td>16390</td>\n",
       "    </tr>\n",
       "    <tr>\n",
       "      <th>128</th>\n",
       "      <td>Elgin Baylor*</td>\n",
       "      <td>19645.0</td>\n",
       "      <td>295.0</td>\n",
       "      <td>711.0</td>\n",
       "      <td>0.0</td>\n",
       "      <td>28499.0</td>\n",
       "      <td>226.9</td>\n",
       "      <td>4.900</td>\n",
       "      <td>0.0</td>\n",
       "      <td>3.588</td>\n",
       "      <td>...</td>\n",
       "      <td>7.783</td>\n",
       "      <td>0.0</td>\n",
       "      <td>0.0</td>\n",
       "      <td>9786</td>\n",
       "      <td>3051</td>\n",
       "      <td>0.0</td>\n",
       "      <td>0.0</td>\n",
       "      <td>0.0</td>\n",
       "      <td>2168.0</td>\n",
       "      <td>19983</td>\n",
       "    </tr>\n",
       "    <tr>\n",
       "      <th>242</th>\n",
       "      <td>K.C. Jones*</td>\n",
       "      <td>15708.0</td>\n",
       "      <td>244.0</td>\n",
       "      <td>627.0</td>\n",
       "      <td>0.0</td>\n",
       "      <td>16892.0</td>\n",
       "      <td>85.0</td>\n",
       "      <td>3.512</td>\n",
       "      <td>0.0</td>\n",
       "      <td>2.985</td>\n",
       "      <td>...</td>\n",
       "      <td>5.158</td>\n",
       "      <td>0.0</td>\n",
       "      <td>0.0</td>\n",
       "      <td>2272</td>\n",
       "      <td>2838</td>\n",
       "      <td>0.0</td>\n",
       "      <td>0.0</td>\n",
       "      <td>0.0</td>\n",
       "      <td>1758.0</td>\n",
       "      <td>4840</td>\n",
       "    </tr>\n",
       "  </tbody>\n",
       "</table>\n",
       "<p>10 rows × 50 columns</p>\n",
       "</div>"
      ],
      "text/plain": [
       "                Player     Year    Age      G   GS       MP    PER    TS%  \\\n",
       "278   Oscar Robertson*  17685.0  234.0  683.0  0.0  30223.0  227.9  5.147   \n",
       "165       Guy Rodgers*  23581.0  349.0  862.0  0.0  27895.0  154.4  5.009   \n",
       "375  Wilt Chamberlain*  23575.0  331.0  860.0  0.0  40014.0  338.0  6.488   \n",
       "256     Lenny Wilkens*  17685.0  243.0  637.0  0.0  23015.0  134.3  4.448   \n",
       "303     Richie Guerin*  21605.0  342.0  714.0  0.0  23032.0  202.8  5.767   \n",
       "29       Bill Russell*  19645.0  295.0  776.0  0.0  33412.0  182.7  4.712   \n",
       "198        Jerry West*  17685.0  234.0  612.0  0.0  24220.0  202.5  4.928   \n",
       "167         Hal Greer*  19645.0  275.0  774.0  0.0  28821.0  164.1  5.100   \n",
       "128      Elgin Baylor*  19645.0  295.0  711.0  0.0  28499.0  226.9  4.900   \n",
       "242        K.C. Jones*  15708.0  244.0  627.0  0.0  16892.0   85.0  3.512   \n",
       "\n",
       "     3PAr    FTr  ...    FT%  ORB  DRB    TRB   AST  STL  BLK  TOV      PF  \\\n",
       "278   0.0  4.540  ...  7.553  0.0  0.0   5958  7173  0.0  0.0  0.0  2138.0   \n",
       "165   0.0  3.277  ...  8.837  0.0  0.0   3586  6823  0.0  0.0  0.0  2592.0   \n",
       "375   0.0  6.125  ...  6.009  0.0  0.0  20785  3798  0.0  0.0  0.0  1629.0   \n",
       "256   0.0  4.229  ...  6.777  0.0  0.0   3252  3723  0.0  0.0  0.0  2181.0   \n",
       "303   0.0  5.019  ...  8.750  0.0  0.0   3191  3711  0.0  0.0  0.0  2393.0   \n",
       "29    0.0  4.461  ...  5.659  0.0  0.0  17501  3588  0.0  0.0  0.0  2107.0   \n",
       "198   0.0  4.333  ...  7.236  0.0  0.0   3976  3469  0.0  0.0  0.0  1668.0   \n",
       "167   0.0  3.100  ...  8.007  0.0  0.0   4352  3238  0.0  0.0  0.0  2733.0   \n",
       "128   0.0  3.588  ...  7.783  0.0  0.0   9786  3051  0.0  0.0  0.0  2168.0   \n",
       "242   0.0  2.985  ...  5.158  0.0  0.0   2272  2838  0.0  0.0  0.0  1758.0   \n",
       "\n",
       "       PTS  \n",
       "278  20261  \n",
       "165  10132  \n",
       "375  29632  \n",
       "256  10426  \n",
       "303  12691  \n",
       "29   11506  \n",
       "198  16835  \n",
       "167  16390  \n",
       "128  19983  \n",
       "242   4840  \n",
       "\n",
       "[10 rows x 50 columns]"
      ]
     },
     "execution_count": 33,
     "metadata": {},
     "output_type": "execute_result"
    }
   ],
   "source": [
    "# Top 10 Players NBA 1960-1969 Total Assists\n",
    "df_maxassists=Stats_by_Player_total.sort_values(['AST'], ascending=False)\n",
    "df_maxassists.head(10)"
   ]
  },
  {
   "cell_type": "code",
   "execution_count": 37,
   "id": "929e85e0",
   "metadata": {
    "scrolled": true
   },
   "outputs": [
    {
     "data": {
      "application/vnd.plotly.v1+json": {
       "config": {
        "plotlyServerURL": "https://plot.ly"
       },
       "data": [
        {
         "marker": {
          "color": [
           7173,
           6823,
           3798,
           3723,
           3711,
           3588,
           3469,
           3238,
           3051,
           2838
          ],
          "colorscale": [
           [
            0,
            "rgb(23, 28, 66)"
           ],
           [
            0.09090909090909091,
            "rgb(41, 58, 143)"
           ],
           [
            0.18181818181818182,
            "rgb(11, 102, 189)"
           ],
           [
            0.2727272727272727,
            "rgb(69, 144, 185)"
           ],
           [
            0.36363636363636365,
            "rgb(142, 181, 194)"
           ],
           [
            0.45454545454545453,
            "rgb(210, 216, 219)"
           ],
           [
            0.5454545454545454,
            "rgb(230, 210, 204)"
           ],
           [
            0.6363636363636364,
            "rgb(213, 157, 137)"
           ],
           [
            0.7272727272727273,
            "rgb(196, 101, 72)"
           ],
           [
            0.8181818181818182,
            "rgb(172, 43, 36)"
           ],
           [
            0.9090909090909091,
            "rgb(120, 14, 40)"
           ],
           [
            1,
            "rgb(60, 9, 17)"
           ]
          ]
         },
         "text": [
          7173,
          6823,
          3798,
          3723,
          3711,
          3588,
          3469,
          3238,
          3051,
          2838
         ],
         "textposition": "outside",
         "type": "bar",
         "x": [
          "Oscar Robertson*",
          "Guy Rodgers*",
          "Wilt Chamberlain*",
          "Lenny Wilkens*",
          "Richie Guerin*",
          "Bill Russell*",
          "Jerry West*",
          "Hal Greer*",
          "Elgin Baylor*",
          "K.C. Jones*"
         ],
         "y": [
          7173,
          6823,
          3798,
          3723,
          3711,
          3588,
          3469,
          3238,
          3051,
          2838
         ]
        }
       ],
       "layout": {
        "template": {
         "data": {
          "bar": [
           {
            "error_x": {
             "color": "#2a3f5f"
            },
            "error_y": {
             "color": "#2a3f5f"
            },
            "marker": {
             "line": {
              "color": "#E5ECF6",
              "width": 0.5
             },
             "pattern": {
              "fillmode": "overlay",
              "size": 10,
              "solidity": 0.2
             }
            },
            "type": "bar"
           }
          ],
          "barpolar": [
           {
            "marker": {
             "line": {
              "color": "#E5ECF6",
              "width": 0.5
             },
             "pattern": {
              "fillmode": "overlay",
              "size": 10,
              "solidity": 0.2
             }
            },
            "type": "barpolar"
           }
          ],
          "carpet": [
           {
            "aaxis": {
             "endlinecolor": "#2a3f5f",
             "gridcolor": "white",
             "linecolor": "white",
             "minorgridcolor": "white",
             "startlinecolor": "#2a3f5f"
            },
            "baxis": {
             "endlinecolor": "#2a3f5f",
             "gridcolor": "white",
             "linecolor": "white",
             "minorgridcolor": "white",
             "startlinecolor": "#2a3f5f"
            },
            "type": "carpet"
           }
          ],
          "choropleth": [
           {
            "colorbar": {
             "outlinewidth": 0,
             "ticks": ""
            },
            "type": "choropleth"
           }
          ],
          "contour": [
           {
            "colorbar": {
             "outlinewidth": 0,
             "ticks": ""
            },
            "colorscale": [
             [
              0,
              "#0d0887"
             ],
             [
              0.1111111111111111,
              "#46039f"
             ],
             [
              0.2222222222222222,
              "#7201a8"
             ],
             [
              0.3333333333333333,
              "#9c179e"
             ],
             [
              0.4444444444444444,
              "#bd3786"
             ],
             [
              0.5555555555555556,
              "#d8576b"
             ],
             [
              0.6666666666666666,
              "#ed7953"
             ],
             [
              0.7777777777777778,
              "#fb9f3a"
             ],
             [
              0.8888888888888888,
              "#fdca26"
             ],
             [
              1,
              "#f0f921"
             ]
            ],
            "type": "contour"
           }
          ],
          "contourcarpet": [
           {
            "colorbar": {
             "outlinewidth": 0,
             "ticks": ""
            },
            "type": "contourcarpet"
           }
          ],
          "heatmap": [
           {
            "colorbar": {
             "outlinewidth": 0,
             "ticks": ""
            },
            "colorscale": [
             [
              0,
              "#0d0887"
             ],
             [
              0.1111111111111111,
              "#46039f"
             ],
             [
              0.2222222222222222,
              "#7201a8"
             ],
             [
              0.3333333333333333,
              "#9c179e"
             ],
             [
              0.4444444444444444,
              "#bd3786"
             ],
             [
              0.5555555555555556,
              "#d8576b"
             ],
             [
              0.6666666666666666,
              "#ed7953"
             ],
             [
              0.7777777777777778,
              "#fb9f3a"
             ],
             [
              0.8888888888888888,
              "#fdca26"
             ],
             [
              1,
              "#f0f921"
             ]
            ],
            "type": "heatmap"
           }
          ],
          "heatmapgl": [
           {
            "colorbar": {
             "outlinewidth": 0,
             "ticks": ""
            },
            "colorscale": [
             [
              0,
              "#0d0887"
             ],
             [
              0.1111111111111111,
              "#46039f"
             ],
             [
              0.2222222222222222,
              "#7201a8"
             ],
             [
              0.3333333333333333,
              "#9c179e"
             ],
             [
              0.4444444444444444,
              "#bd3786"
             ],
             [
              0.5555555555555556,
              "#d8576b"
             ],
             [
              0.6666666666666666,
              "#ed7953"
             ],
             [
              0.7777777777777778,
              "#fb9f3a"
             ],
             [
              0.8888888888888888,
              "#fdca26"
             ],
             [
              1,
              "#f0f921"
             ]
            ],
            "type": "heatmapgl"
           }
          ],
          "histogram": [
           {
            "marker": {
             "pattern": {
              "fillmode": "overlay",
              "size": 10,
              "solidity": 0.2
             }
            },
            "type": "histogram"
           }
          ],
          "histogram2d": [
           {
            "colorbar": {
             "outlinewidth": 0,
             "ticks": ""
            },
            "colorscale": [
             [
              0,
              "#0d0887"
             ],
             [
              0.1111111111111111,
              "#46039f"
             ],
             [
              0.2222222222222222,
              "#7201a8"
             ],
             [
              0.3333333333333333,
              "#9c179e"
             ],
             [
              0.4444444444444444,
              "#bd3786"
             ],
             [
              0.5555555555555556,
              "#d8576b"
             ],
             [
              0.6666666666666666,
              "#ed7953"
             ],
             [
              0.7777777777777778,
              "#fb9f3a"
             ],
             [
              0.8888888888888888,
              "#fdca26"
             ],
             [
              1,
              "#f0f921"
             ]
            ],
            "type": "histogram2d"
           }
          ],
          "histogram2dcontour": [
           {
            "colorbar": {
             "outlinewidth": 0,
             "ticks": ""
            },
            "colorscale": [
             [
              0,
              "#0d0887"
             ],
             [
              0.1111111111111111,
              "#46039f"
             ],
             [
              0.2222222222222222,
              "#7201a8"
             ],
             [
              0.3333333333333333,
              "#9c179e"
             ],
             [
              0.4444444444444444,
              "#bd3786"
             ],
             [
              0.5555555555555556,
              "#d8576b"
             ],
             [
              0.6666666666666666,
              "#ed7953"
             ],
             [
              0.7777777777777778,
              "#fb9f3a"
             ],
             [
              0.8888888888888888,
              "#fdca26"
             ],
             [
              1,
              "#f0f921"
             ]
            ],
            "type": "histogram2dcontour"
           }
          ],
          "mesh3d": [
           {
            "colorbar": {
             "outlinewidth": 0,
             "ticks": ""
            },
            "type": "mesh3d"
           }
          ],
          "parcoords": [
           {
            "line": {
             "colorbar": {
              "outlinewidth": 0,
              "ticks": ""
             }
            },
            "type": "parcoords"
           }
          ],
          "pie": [
           {
            "automargin": true,
            "type": "pie"
           }
          ],
          "scatter": [
           {
            "fillpattern": {
             "fillmode": "overlay",
             "size": 10,
             "solidity": 0.2
            },
            "type": "scatter"
           }
          ],
          "scatter3d": [
           {
            "line": {
             "colorbar": {
              "outlinewidth": 0,
              "ticks": ""
             }
            },
            "marker": {
             "colorbar": {
              "outlinewidth": 0,
              "ticks": ""
             }
            },
            "type": "scatter3d"
           }
          ],
          "scattercarpet": [
           {
            "marker": {
             "colorbar": {
              "outlinewidth": 0,
              "ticks": ""
             }
            },
            "type": "scattercarpet"
           }
          ],
          "scattergeo": [
           {
            "marker": {
             "colorbar": {
              "outlinewidth": 0,
              "ticks": ""
             }
            },
            "type": "scattergeo"
           }
          ],
          "scattergl": [
           {
            "marker": {
             "colorbar": {
              "outlinewidth": 0,
              "ticks": ""
             }
            },
            "type": "scattergl"
           }
          ],
          "scattermapbox": [
           {
            "marker": {
             "colorbar": {
              "outlinewidth": 0,
              "ticks": ""
             }
            },
            "type": "scattermapbox"
           }
          ],
          "scatterpolar": [
           {
            "marker": {
             "colorbar": {
              "outlinewidth": 0,
              "ticks": ""
             }
            },
            "type": "scatterpolar"
           }
          ],
          "scatterpolargl": [
           {
            "marker": {
             "colorbar": {
              "outlinewidth": 0,
              "ticks": ""
             }
            },
            "type": "scatterpolargl"
           }
          ],
          "scatterternary": [
           {
            "marker": {
             "colorbar": {
              "outlinewidth": 0,
              "ticks": ""
             }
            },
            "type": "scatterternary"
           }
          ],
          "surface": [
           {
            "colorbar": {
             "outlinewidth": 0,
             "ticks": ""
            },
            "colorscale": [
             [
              0,
              "#0d0887"
             ],
             [
              0.1111111111111111,
              "#46039f"
             ],
             [
              0.2222222222222222,
              "#7201a8"
             ],
             [
              0.3333333333333333,
              "#9c179e"
             ],
             [
              0.4444444444444444,
              "#bd3786"
             ],
             [
              0.5555555555555556,
              "#d8576b"
             ],
             [
              0.6666666666666666,
              "#ed7953"
             ],
             [
              0.7777777777777778,
              "#fb9f3a"
             ],
             [
              0.8888888888888888,
              "#fdca26"
             ],
             [
              1,
              "#f0f921"
             ]
            ],
            "type": "surface"
           }
          ],
          "table": [
           {
            "cells": {
             "fill": {
              "color": "#EBF0F8"
             },
             "line": {
              "color": "white"
             }
            },
            "header": {
             "fill": {
              "color": "#C8D4E3"
             },
             "line": {
              "color": "white"
             }
            },
            "type": "table"
           }
          ]
         },
         "layout": {
          "annotationdefaults": {
           "arrowcolor": "#2a3f5f",
           "arrowhead": 0,
           "arrowwidth": 1
          },
          "autotypenumbers": "strict",
          "coloraxis": {
           "colorbar": {
            "outlinewidth": 0,
            "ticks": ""
           }
          },
          "colorscale": {
           "diverging": [
            [
             0,
             "#8e0152"
            ],
            [
             0.1,
             "#c51b7d"
            ],
            [
             0.2,
             "#de77ae"
            ],
            [
             0.3,
             "#f1b6da"
            ],
            [
             0.4,
             "#fde0ef"
            ],
            [
             0.5,
             "#f7f7f7"
            ],
            [
             0.6,
             "#e6f5d0"
            ],
            [
             0.7,
             "#b8e186"
            ],
            [
             0.8,
             "#7fbc41"
            ],
            [
             0.9,
             "#4d9221"
            ],
            [
             1,
             "#276419"
            ]
           ],
           "sequential": [
            [
             0,
             "#0d0887"
            ],
            [
             0.1111111111111111,
             "#46039f"
            ],
            [
             0.2222222222222222,
             "#7201a8"
            ],
            [
             0.3333333333333333,
             "#9c179e"
            ],
            [
             0.4444444444444444,
             "#bd3786"
            ],
            [
             0.5555555555555556,
             "#d8576b"
            ],
            [
             0.6666666666666666,
             "#ed7953"
            ],
            [
             0.7777777777777778,
             "#fb9f3a"
            ],
            [
             0.8888888888888888,
             "#fdca26"
            ],
            [
             1,
             "#f0f921"
            ]
           ],
           "sequentialminus": [
            [
             0,
             "#0d0887"
            ],
            [
             0.1111111111111111,
             "#46039f"
            ],
            [
             0.2222222222222222,
             "#7201a8"
            ],
            [
             0.3333333333333333,
             "#9c179e"
            ],
            [
             0.4444444444444444,
             "#bd3786"
            ],
            [
             0.5555555555555556,
             "#d8576b"
            ],
            [
             0.6666666666666666,
             "#ed7953"
            ],
            [
             0.7777777777777778,
             "#fb9f3a"
            ],
            [
             0.8888888888888888,
             "#fdca26"
            ],
            [
             1,
             "#f0f921"
            ]
           ]
          },
          "colorway": [
           "#636efa",
           "#EF553B",
           "#00cc96",
           "#ab63fa",
           "#FFA15A",
           "#19d3f3",
           "#FF6692",
           "#B6E880",
           "#FF97FF",
           "#FECB52"
          ],
          "font": {
           "color": "#2a3f5f"
          },
          "geo": {
           "bgcolor": "white",
           "lakecolor": "white",
           "landcolor": "#E5ECF6",
           "showlakes": true,
           "showland": true,
           "subunitcolor": "white"
          },
          "hoverlabel": {
           "align": "left"
          },
          "hovermode": "closest",
          "mapbox": {
           "style": "light"
          },
          "paper_bgcolor": "white",
          "plot_bgcolor": "#E5ECF6",
          "polar": {
           "angularaxis": {
            "gridcolor": "white",
            "linecolor": "white",
            "ticks": ""
           },
           "bgcolor": "#E5ECF6",
           "radialaxis": {
            "gridcolor": "white",
            "linecolor": "white",
            "ticks": ""
           }
          },
          "scene": {
           "xaxis": {
            "backgroundcolor": "#E5ECF6",
            "gridcolor": "white",
            "gridwidth": 2,
            "linecolor": "white",
            "showbackground": true,
            "ticks": "",
            "zerolinecolor": "white"
           },
           "yaxis": {
            "backgroundcolor": "#E5ECF6",
            "gridcolor": "white",
            "gridwidth": 2,
            "linecolor": "white",
            "showbackground": true,
            "ticks": "",
            "zerolinecolor": "white"
           },
           "zaxis": {
            "backgroundcolor": "#E5ECF6",
            "gridcolor": "white",
            "gridwidth": 2,
            "linecolor": "white",
            "showbackground": true,
            "ticks": "",
            "zerolinecolor": "white"
           }
          },
          "shapedefaults": {
           "line": {
            "color": "#2a3f5f"
           }
          },
          "ternary": {
           "aaxis": {
            "gridcolor": "white",
            "linecolor": "white",
            "ticks": ""
           },
           "baxis": {
            "gridcolor": "white",
            "linecolor": "white",
            "ticks": ""
           },
           "bgcolor": "#E5ECF6",
           "caxis": {
            "gridcolor": "white",
            "linecolor": "white",
            "ticks": ""
           }
          },
          "title": {
           "x": 0.05
          },
          "xaxis": {
           "automargin": true,
           "gridcolor": "white",
           "linecolor": "white",
           "ticks": "",
           "title": {
            "standoff": 15
           },
           "zerolinecolor": "white",
           "zerolinewidth": 2
          },
          "yaxis": {
           "automargin": true,
           "gridcolor": "white",
           "linecolor": "white",
           "ticks": "",
           "title": {
            "standoff": 15
           },
           "zerolinecolor": "white",
           "zerolinewidth": 2
          }
         }
        },
        "title": {
         "text": "Top 10 Players NBA 1960-1969 Total Assists",
         "x": 0.5
        }
       }
      },
      "text/html": [
       "<div>                            <div id=\"02653e8d-ad13-47e7-af06-fb552e4ce6fb\" class=\"plotly-graph-div\" style=\"height:525px; width:100%;\"></div>            <script type=\"text/javascript\">                require([\"plotly\"], function(Plotly) {                    window.PLOTLYENV=window.PLOTLYENV || {};                                    if (document.getElementById(\"02653e8d-ad13-47e7-af06-fb552e4ce6fb\")) {                    Plotly.newPlot(                        \"02653e8d-ad13-47e7-af06-fb552e4ce6fb\",                        [{\"marker\":{\"color\":[7173,6823,3798,3723,3711,3588,3469,3238,3051,2838],\"colorscale\":[[0.0,\"rgb(23, 28, 66)\"],[0.09090909090909091,\"rgb(41, 58, 143)\"],[0.18181818181818182,\"rgb(11, 102, 189)\"],[0.2727272727272727,\"rgb(69, 144, 185)\"],[0.36363636363636365,\"rgb(142, 181, 194)\"],[0.45454545454545453,\"rgb(210, 216, 219)\"],[0.5454545454545454,\"rgb(230, 210, 204)\"],[0.6363636363636364,\"rgb(213, 157, 137)\"],[0.7272727272727273,\"rgb(196, 101, 72)\"],[0.8181818181818182,\"rgb(172, 43, 36)\"],[0.9090909090909091,\"rgb(120, 14, 40)\"],[1.0,\"rgb(60, 9, 17)\"]]},\"text\":[7173.0,6823.0,3798.0,3723.0,3711.0,3588.0,3469.0,3238.0,3051.0,2838.0],\"textposition\":\"outside\",\"x\":[\"Oscar Robertson*\",\"Guy Rodgers*\",\"Wilt Chamberlain*\",\"Lenny Wilkens*\",\"Richie Guerin*\",\"Bill Russell*\",\"Jerry West*\",\"Hal Greer*\",\"Elgin Baylor*\",\"K.C. Jones*\"],\"y\":[7173,6823,3798,3723,3711,3588,3469,3238,3051,2838],\"type\":\"bar\"}],                        {\"template\":{\"data\":{\"histogram2dcontour\":[{\"type\":\"histogram2dcontour\",\"colorbar\":{\"outlinewidth\":0,\"ticks\":\"\"},\"colorscale\":[[0.0,\"#0d0887\"],[0.1111111111111111,\"#46039f\"],[0.2222222222222222,\"#7201a8\"],[0.3333333333333333,\"#9c179e\"],[0.4444444444444444,\"#bd3786\"],[0.5555555555555556,\"#d8576b\"],[0.6666666666666666,\"#ed7953\"],[0.7777777777777778,\"#fb9f3a\"],[0.8888888888888888,\"#fdca26\"],[1.0,\"#f0f921\"]]}],\"choropleth\":[{\"type\":\"choropleth\",\"colorbar\":{\"outlinewidth\":0,\"ticks\":\"\"}}],\"histogram2d\":[{\"type\":\"histogram2d\",\"colorbar\":{\"outlinewidth\":0,\"ticks\":\"\"},\"colorscale\":[[0.0,\"#0d0887\"],[0.1111111111111111,\"#46039f\"],[0.2222222222222222,\"#7201a8\"],[0.3333333333333333,\"#9c179e\"],[0.4444444444444444,\"#bd3786\"],[0.5555555555555556,\"#d8576b\"],[0.6666666666666666,\"#ed7953\"],[0.7777777777777778,\"#fb9f3a\"],[0.8888888888888888,\"#fdca26\"],[1.0,\"#f0f921\"]]}],\"heatmap\":[{\"type\":\"heatmap\",\"colorbar\":{\"outlinewidth\":0,\"ticks\":\"\"},\"colorscale\":[[0.0,\"#0d0887\"],[0.1111111111111111,\"#46039f\"],[0.2222222222222222,\"#7201a8\"],[0.3333333333333333,\"#9c179e\"],[0.4444444444444444,\"#bd3786\"],[0.5555555555555556,\"#d8576b\"],[0.6666666666666666,\"#ed7953\"],[0.7777777777777778,\"#fb9f3a\"],[0.8888888888888888,\"#fdca26\"],[1.0,\"#f0f921\"]]}],\"heatmapgl\":[{\"type\":\"heatmapgl\",\"colorbar\":{\"outlinewidth\":0,\"ticks\":\"\"},\"colorscale\":[[0.0,\"#0d0887\"],[0.1111111111111111,\"#46039f\"],[0.2222222222222222,\"#7201a8\"],[0.3333333333333333,\"#9c179e\"],[0.4444444444444444,\"#bd3786\"],[0.5555555555555556,\"#d8576b\"],[0.6666666666666666,\"#ed7953\"],[0.7777777777777778,\"#fb9f3a\"],[0.8888888888888888,\"#fdca26\"],[1.0,\"#f0f921\"]]}],\"contourcarpet\":[{\"type\":\"contourcarpet\",\"colorbar\":{\"outlinewidth\":0,\"ticks\":\"\"}}],\"contour\":[{\"type\":\"contour\",\"colorbar\":{\"outlinewidth\":0,\"ticks\":\"\"},\"colorscale\":[[0.0,\"#0d0887\"],[0.1111111111111111,\"#46039f\"],[0.2222222222222222,\"#7201a8\"],[0.3333333333333333,\"#9c179e\"],[0.4444444444444444,\"#bd3786\"],[0.5555555555555556,\"#d8576b\"],[0.6666666666666666,\"#ed7953\"],[0.7777777777777778,\"#fb9f3a\"],[0.8888888888888888,\"#fdca26\"],[1.0,\"#f0f921\"]]}],\"surface\":[{\"type\":\"surface\",\"colorbar\":{\"outlinewidth\":0,\"ticks\":\"\"},\"colorscale\":[[0.0,\"#0d0887\"],[0.1111111111111111,\"#46039f\"],[0.2222222222222222,\"#7201a8\"],[0.3333333333333333,\"#9c179e\"],[0.4444444444444444,\"#bd3786\"],[0.5555555555555556,\"#d8576b\"],[0.6666666666666666,\"#ed7953\"],[0.7777777777777778,\"#fb9f3a\"],[0.8888888888888888,\"#fdca26\"],[1.0,\"#f0f921\"]]}],\"mesh3d\":[{\"type\":\"mesh3d\",\"colorbar\":{\"outlinewidth\":0,\"ticks\":\"\"}}],\"scatter\":[{\"fillpattern\":{\"fillmode\":\"overlay\",\"size\":10,\"solidity\":0.2},\"type\":\"scatter\"}],\"parcoords\":[{\"type\":\"parcoords\",\"line\":{\"colorbar\":{\"outlinewidth\":0,\"ticks\":\"\"}}}],\"scatterpolargl\":[{\"type\":\"scatterpolargl\",\"marker\":{\"colorbar\":{\"outlinewidth\":0,\"ticks\":\"\"}}}],\"bar\":[{\"error_x\":{\"color\":\"#2a3f5f\"},\"error_y\":{\"color\":\"#2a3f5f\"},\"marker\":{\"line\":{\"color\":\"#E5ECF6\",\"width\":0.5},\"pattern\":{\"fillmode\":\"overlay\",\"size\":10,\"solidity\":0.2}},\"type\":\"bar\"}],\"scattergeo\":[{\"type\":\"scattergeo\",\"marker\":{\"colorbar\":{\"outlinewidth\":0,\"ticks\":\"\"}}}],\"scatterpolar\":[{\"type\":\"scatterpolar\",\"marker\":{\"colorbar\":{\"outlinewidth\":0,\"ticks\":\"\"}}}],\"histogram\":[{\"marker\":{\"pattern\":{\"fillmode\":\"overlay\",\"size\":10,\"solidity\":0.2}},\"type\":\"histogram\"}],\"scattergl\":[{\"type\":\"scattergl\",\"marker\":{\"colorbar\":{\"outlinewidth\":0,\"ticks\":\"\"}}}],\"scatter3d\":[{\"type\":\"scatter3d\",\"line\":{\"colorbar\":{\"outlinewidth\":0,\"ticks\":\"\"}},\"marker\":{\"colorbar\":{\"outlinewidth\":0,\"ticks\":\"\"}}}],\"scattermapbox\":[{\"type\":\"scattermapbox\",\"marker\":{\"colorbar\":{\"outlinewidth\":0,\"ticks\":\"\"}}}],\"scatterternary\":[{\"type\":\"scatterternary\",\"marker\":{\"colorbar\":{\"outlinewidth\":0,\"ticks\":\"\"}}}],\"scattercarpet\":[{\"type\":\"scattercarpet\",\"marker\":{\"colorbar\":{\"outlinewidth\":0,\"ticks\":\"\"}}}],\"carpet\":[{\"aaxis\":{\"endlinecolor\":\"#2a3f5f\",\"gridcolor\":\"white\",\"linecolor\":\"white\",\"minorgridcolor\":\"white\",\"startlinecolor\":\"#2a3f5f\"},\"baxis\":{\"endlinecolor\":\"#2a3f5f\",\"gridcolor\":\"white\",\"linecolor\":\"white\",\"minorgridcolor\":\"white\",\"startlinecolor\":\"#2a3f5f\"},\"type\":\"carpet\"}],\"table\":[{\"cells\":{\"fill\":{\"color\":\"#EBF0F8\"},\"line\":{\"color\":\"white\"}},\"header\":{\"fill\":{\"color\":\"#C8D4E3\"},\"line\":{\"color\":\"white\"}},\"type\":\"table\"}],\"barpolar\":[{\"marker\":{\"line\":{\"color\":\"#E5ECF6\",\"width\":0.5},\"pattern\":{\"fillmode\":\"overlay\",\"size\":10,\"solidity\":0.2}},\"type\":\"barpolar\"}],\"pie\":[{\"automargin\":true,\"type\":\"pie\"}]},\"layout\":{\"autotypenumbers\":\"strict\",\"colorway\":[\"#636efa\",\"#EF553B\",\"#00cc96\",\"#ab63fa\",\"#FFA15A\",\"#19d3f3\",\"#FF6692\",\"#B6E880\",\"#FF97FF\",\"#FECB52\"],\"font\":{\"color\":\"#2a3f5f\"},\"hovermode\":\"closest\",\"hoverlabel\":{\"align\":\"left\"},\"paper_bgcolor\":\"white\",\"plot_bgcolor\":\"#E5ECF6\",\"polar\":{\"bgcolor\":\"#E5ECF6\",\"angularaxis\":{\"gridcolor\":\"white\",\"linecolor\":\"white\",\"ticks\":\"\"},\"radialaxis\":{\"gridcolor\":\"white\",\"linecolor\":\"white\",\"ticks\":\"\"}},\"ternary\":{\"bgcolor\":\"#E5ECF6\",\"aaxis\":{\"gridcolor\":\"white\",\"linecolor\":\"white\",\"ticks\":\"\"},\"baxis\":{\"gridcolor\":\"white\",\"linecolor\":\"white\",\"ticks\":\"\"},\"caxis\":{\"gridcolor\":\"white\",\"linecolor\":\"white\",\"ticks\":\"\"}},\"coloraxis\":{\"colorbar\":{\"outlinewidth\":0,\"ticks\":\"\"}},\"colorscale\":{\"sequential\":[[0.0,\"#0d0887\"],[0.1111111111111111,\"#46039f\"],[0.2222222222222222,\"#7201a8\"],[0.3333333333333333,\"#9c179e\"],[0.4444444444444444,\"#bd3786\"],[0.5555555555555556,\"#d8576b\"],[0.6666666666666666,\"#ed7953\"],[0.7777777777777778,\"#fb9f3a\"],[0.8888888888888888,\"#fdca26\"],[1.0,\"#f0f921\"]],\"sequentialminus\":[[0.0,\"#0d0887\"],[0.1111111111111111,\"#46039f\"],[0.2222222222222222,\"#7201a8\"],[0.3333333333333333,\"#9c179e\"],[0.4444444444444444,\"#bd3786\"],[0.5555555555555556,\"#d8576b\"],[0.6666666666666666,\"#ed7953\"],[0.7777777777777778,\"#fb9f3a\"],[0.8888888888888888,\"#fdca26\"],[1.0,\"#f0f921\"]],\"diverging\":[[0,\"#8e0152\"],[0.1,\"#c51b7d\"],[0.2,\"#de77ae\"],[0.3,\"#f1b6da\"],[0.4,\"#fde0ef\"],[0.5,\"#f7f7f7\"],[0.6,\"#e6f5d0\"],[0.7,\"#b8e186\"],[0.8,\"#7fbc41\"],[0.9,\"#4d9221\"],[1,\"#276419\"]]},\"xaxis\":{\"gridcolor\":\"white\",\"linecolor\":\"white\",\"ticks\":\"\",\"title\":{\"standoff\":15},\"zerolinecolor\":\"white\",\"automargin\":true,\"zerolinewidth\":2},\"yaxis\":{\"gridcolor\":\"white\",\"linecolor\":\"white\",\"ticks\":\"\",\"title\":{\"standoff\":15},\"zerolinecolor\":\"white\",\"automargin\":true,\"zerolinewidth\":2},\"scene\":{\"xaxis\":{\"backgroundcolor\":\"#E5ECF6\",\"gridcolor\":\"white\",\"linecolor\":\"white\",\"showbackground\":true,\"ticks\":\"\",\"zerolinecolor\":\"white\",\"gridwidth\":2},\"yaxis\":{\"backgroundcolor\":\"#E5ECF6\",\"gridcolor\":\"white\",\"linecolor\":\"white\",\"showbackground\":true,\"ticks\":\"\",\"zerolinecolor\":\"white\",\"gridwidth\":2},\"zaxis\":{\"backgroundcolor\":\"#E5ECF6\",\"gridcolor\":\"white\",\"linecolor\":\"white\",\"showbackground\":true,\"ticks\":\"\",\"zerolinecolor\":\"white\",\"gridwidth\":2}},\"shapedefaults\":{\"line\":{\"color\":\"#2a3f5f\"}},\"annotationdefaults\":{\"arrowcolor\":\"#2a3f5f\",\"arrowhead\":0,\"arrowwidth\":1},\"geo\":{\"bgcolor\":\"white\",\"landcolor\":\"#E5ECF6\",\"subunitcolor\":\"white\",\"showland\":true,\"showlakes\":true,\"lakecolor\":\"white\"},\"title\":{\"x\":0.05},\"mapbox\":{\"style\":\"light\"}}},\"title\":{\"text\":\"Top 10 Players NBA 1960-1969 Total Assists\",\"x\":0.5}},                        {\"responsive\": true}                    ).then(function(){\n",
       "                            \n",
       "var gd = document.getElementById('02653e8d-ad13-47e7-af06-fb552e4ce6fb');\n",
       "var x = new MutationObserver(function (mutations, observer) {{\n",
       "        var display = window.getComputedStyle(gd).display;\n",
       "        if (!display || display === 'none') {{\n",
       "            console.log([gd, 'removed!']);\n",
       "            Plotly.purge(gd);\n",
       "            observer.disconnect();\n",
       "        }}\n",
       "}});\n",
       "\n",
       "// Listen for the removal of the full notebook cells\n",
       "var notebookContainer = gd.closest('#notebook-container');\n",
       "if (notebookContainer) {{\n",
       "    x.observe(notebookContainer, {childList: true});\n",
       "}}\n",
       "\n",
       "// Listen for the clearing of the current output cell\n",
       "var outputEl = gd.closest('.output');\n",
       "if (outputEl) {{\n",
       "    x.observe(outputEl, {childList: true});\n",
       "}}\n",
       "\n",
       "                        })                };                });            </script>        </div>"
      ]
     },
     "metadata": {},
     "output_type": "display_data"
    }
   ],
   "source": [
    "df_maxassists=Stats_by_Player_total.sort_values(['AST'], ascending=False)\n",
    "df_maxassists = df_maxassists[0:10]\n",
    "fig = go.Figure(go.Bar(\n",
    "    x=df_maxassists['Player'],y=df_maxassists['AST'],\n",
    "    marker={'color': df_maxassists['AST'], \n",
    "    'colorscale': 'balance'},  \n",
    "    text=df_maxassists['AST'],\n",
    "    textposition = \"outside\",\n",
    "))\n",
    "\n",
    "fig.update_layout(title = \"Top 10 Players NBA 1960-1969 Total Assists\",title_x=0.5)\n",
    "fig.show()"
   ]
  },
  {
   "cell_type": "code",
   "execution_count": 35,
   "id": "3018eb3b",
   "metadata": {},
   "outputs": [
    {
     "data": {
      "text/html": [
       "<div>\n",
       "<style scoped>\n",
       "    .dataframe tbody tr th:only-of-type {\n",
       "        vertical-align: middle;\n",
       "    }\n",
       "\n",
       "    .dataframe tbody tr th {\n",
       "        vertical-align: top;\n",
       "    }\n",
       "\n",
       "    .dataframe thead th {\n",
       "        text-align: right;\n",
       "    }\n",
       "</style>\n",
       "<table border=\"1\" class=\"dataframe\">\n",
       "  <thead>\n",
       "    <tr style=\"text-align: right;\">\n",
       "      <th></th>\n",
       "      <th>Player</th>\n",
       "      <th>Year</th>\n",
       "      <th>Age</th>\n",
       "      <th>G</th>\n",
       "      <th>GS</th>\n",
       "      <th>MP</th>\n",
       "      <th>PER</th>\n",
       "      <th>TS%</th>\n",
       "      <th>3PAr</th>\n",
       "      <th>FTr</th>\n",
       "      <th>...</th>\n",
       "      <th>FT%</th>\n",
       "      <th>ORB</th>\n",
       "      <th>DRB</th>\n",
       "      <th>TRB</th>\n",
       "      <th>AST</th>\n",
       "      <th>STL</th>\n",
       "      <th>BLK</th>\n",
       "      <th>TOV</th>\n",
       "      <th>PF</th>\n",
       "      <th>PTS</th>\n",
       "    </tr>\n",
       "  </thead>\n",
       "  <tbody>\n",
       "    <tr>\n",
       "      <th>375</th>\n",
       "      <td>Wilt Chamberlain*</td>\n",
       "      <td>23575.0</td>\n",
       "      <td>331.0</td>\n",
       "      <td>860.0</td>\n",
       "      <td>0.0</td>\n",
       "      <td>40014.0</td>\n",
       "      <td>338.0</td>\n",
       "      <td>6.488</td>\n",
       "      <td>0.0</td>\n",
       "      <td>6.125</td>\n",
       "      <td>...</td>\n",
       "      <td>6.009</td>\n",
       "      <td>0.0</td>\n",
       "      <td>0.0</td>\n",
       "      <td>20785</td>\n",
       "      <td>3798</td>\n",
       "      <td>0.0</td>\n",
       "      <td>0.0</td>\n",
       "      <td>0.0</td>\n",
       "      <td>1629.0</td>\n",
       "      <td>29632</td>\n",
       "    </tr>\n",
       "    <tr>\n",
       "      <th>29</th>\n",
       "      <td>Bill Russell*</td>\n",
       "      <td>19645.0</td>\n",
       "      <td>295.0</td>\n",
       "      <td>776.0</td>\n",
       "      <td>0.0</td>\n",
       "      <td>33412.0</td>\n",
       "      <td>182.7</td>\n",
       "      <td>4.712</td>\n",
       "      <td>0.0</td>\n",
       "      <td>4.461</td>\n",
       "      <td>...</td>\n",
       "      <td>5.659</td>\n",
       "      <td>0.0</td>\n",
       "      <td>0.0</td>\n",
       "      <td>17501</td>\n",
       "      <td>3588</td>\n",
       "      <td>0.0</td>\n",
       "      <td>0.0</td>\n",
       "      <td>0.0</td>\n",
       "      <td>2107.0</td>\n",
       "      <td>11506</td>\n",
       "    </tr>\n",
       "    <tr>\n",
       "      <th>357</th>\n",
       "      <td>Walt Bellamy*</td>\n",
       "      <td>23594.0</td>\n",
       "      <td>314.0</td>\n",
       "      <td>816.0</td>\n",
       "      <td>0.0</td>\n",
       "      <td>32072.0</td>\n",
       "      <td>244.0</td>\n",
       "      <td>6.628</td>\n",
       "      <td>0.0</td>\n",
       "      <td>6.303</td>\n",
       "      <td>...</td>\n",
       "      <td>7.731</td>\n",
       "      <td>0.0</td>\n",
       "      <td>0.0</td>\n",
       "      <td>12071</td>\n",
       "      <td>1952</td>\n",
       "      <td>0.0</td>\n",
       "      <td>0.0</td>\n",
       "      <td>0.0</td>\n",
       "      <td>2886.0</td>\n",
       "      <td>18433</td>\n",
       "    </tr>\n",
       "    <tr>\n",
       "      <th>128</th>\n",
       "      <td>Elgin Baylor*</td>\n",
       "      <td>19645.0</td>\n",
       "      <td>295.0</td>\n",
       "      <td>711.0</td>\n",
       "      <td>0.0</td>\n",
       "      <td>28499.0</td>\n",
       "      <td>226.9</td>\n",
       "      <td>4.900</td>\n",
       "      <td>0.0</td>\n",
       "      <td>3.588</td>\n",
       "      <td>...</td>\n",
       "      <td>7.783</td>\n",
       "      <td>0.0</td>\n",
       "      <td>0.0</td>\n",
       "      <td>9786</td>\n",
       "      <td>3051</td>\n",
       "      <td>0.0</td>\n",
       "      <td>0.0</td>\n",
       "      <td>0.0</td>\n",
       "      <td>2168.0</td>\n",
       "      <td>19983</td>\n",
       "    </tr>\n",
       "    <tr>\n",
       "      <th>196</th>\n",
       "      <td>Jerry Lucas*</td>\n",
       "      <td>11799.0</td>\n",
       "      <td>153.0</td>\n",
       "      <td>461.0</td>\n",
       "      <td>0.0</td>\n",
       "      <td>19906.0</td>\n",
       "      <td>115.9</td>\n",
       "      <td>3.291</td>\n",
       "      <td>0.0</td>\n",
       "      <td>1.914</td>\n",
       "      <td>...</td>\n",
       "      <td>4.704</td>\n",
       "      <td>0.0</td>\n",
       "      <td>0.0</td>\n",
       "      <td>8831</td>\n",
       "      <td>1399</td>\n",
       "      <td>0.0</td>\n",
       "      <td>0.0</td>\n",
       "      <td>0.0</td>\n",
       "      <td>1517.0</td>\n",
       "      <td>9066</td>\n",
       "    </tr>\n",
       "    <tr>\n",
       "      <th>14</th>\n",
       "      <td>Bailey Howell*</td>\n",
       "      <td>19645.0</td>\n",
       "      <td>275.0</td>\n",
       "      <td>786.0</td>\n",
       "      <td>0.0</td>\n",
       "      <td>26960.0</td>\n",
       "      <td>195.9</td>\n",
       "      <td>5.492</td>\n",
       "      <td>0.0</td>\n",
       "      <td>4.719</td>\n",
       "      <td>...</td>\n",
       "      <td>7.601</td>\n",
       "      <td>0.0</td>\n",
       "      <td>0.0</td>\n",
       "      <td>8392</td>\n",
       "      <td>1618</td>\n",
       "      <td>0.0</td>\n",
       "      <td>0.0</td>\n",
       "      <td>0.0</td>\n",
       "      <td>3003.0</td>\n",
       "      <td>15859</td>\n",
       "    </tr>\n",
       "    <tr>\n",
       "      <th>238</th>\n",
       "      <td>Johnny Green</td>\n",
       "      <td>27513.0</td>\n",
       "      <td>437.0</td>\n",
       "      <td>912.0</td>\n",
       "      <td>0.0</td>\n",
       "      <td>20125.0</td>\n",
       "      <td>234.7</td>\n",
       "      <td>6.894</td>\n",
       "      <td>0.0</td>\n",
       "      <td>6.097</td>\n",
       "      <td>...</td>\n",
       "      <td>7.074</td>\n",
       "      <td>0.0</td>\n",
       "      <td>0.0</td>\n",
       "      <td>7855</td>\n",
       "      <td>1256</td>\n",
       "      <td>0.0</td>\n",
       "      <td>0.0</td>\n",
       "      <td>0.0</td>\n",
       "      <td>2278.0</td>\n",
       "      <td>10218</td>\n",
       "    </tr>\n",
       "    <tr>\n",
       "      <th>297</th>\n",
       "      <td>Ray Scott</td>\n",
       "      <td>19658.0</td>\n",
       "      <td>268.0</td>\n",
       "      <td>683.0</td>\n",
       "      <td>0.0</td>\n",
       "      <td>22392.0</td>\n",
       "      <td>155.2</td>\n",
       "      <td>4.562</td>\n",
       "      <td>0.0</td>\n",
       "      <td>3.408</td>\n",
       "      <td>...</td>\n",
       "      <td>7.113</td>\n",
       "      <td>0.0</td>\n",
       "      <td>0.0</td>\n",
       "      <td>7457</td>\n",
       "      <td>1664</td>\n",
       "      <td>0.0</td>\n",
       "      <td>0.0</td>\n",
       "      <td>0.0</td>\n",
       "      <td>2103.0</td>\n",
       "      <td>10703</td>\n",
       "    </tr>\n",
       "    <tr>\n",
       "      <th>274</th>\n",
       "      <td>Nate Thurmond*</td>\n",
       "      <td>11799.0</td>\n",
       "      <td>147.0</td>\n",
       "      <td>413.0</td>\n",
       "      <td>0.0</td>\n",
       "      <td>16221.0</td>\n",
       "      <td>98.4</td>\n",
       "      <td>2.736</td>\n",
       "      <td>0.0</td>\n",
       "      <td>2.315</td>\n",
       "      <td>...</td>\n",
       "      <td>3.749</td>\n",
       "      <td>0.0</td>\n",
       "      <td>0.0</td>\n",
       "      <td>7402</td>\n",
       "      <td>988</td>\n",
       "      <td>0.0</td>\n",
       "      <td>0.0</td>\n",
       "      <td>0.0</td>\n",
       "      <td>1130.0</td>\n",
       "      <td>6778</td>\n",
       "    </tr>\n",
       "    <tr>\n",
       "      <th>46</th>\n",
       "      <td>Bob Pettit*</td>\n",
       "      <td>11775.0</td>\n",
       "      <td>177.0</td>\n",
       "      <td>435.0</td>\n",
       "      <td>0.0</td>\n",
       "      <td>17345.0</td>\n",
       "      <td>144.3</td>\n",
       "      <td>3.113</td>\n",
       "      <td>0.0</td>\n",
       "      <td>2.804</td>\n",
       "      <td>...</td>\n",
       "      <td>4.631</td>\n",
       "      <td>0.0</td>\n",
       "      <td>0.0</td>\n",
       "      <td>7256</td>\n",
       "      <td>1440</td>\n",
       "      <td>0.0</td>\n",
       "      <td>0.0</td>\n",
       "      <td>0.0</td>\n",
       "      <td>1466.0</td>\n",
       "      <td>11986</td>\n",
       "    </tr>\n",
       "  </tbody>\n",
       "</table>\n",
       "<p>10 rows × 50 columns</p>\n",
       "</div>"
      ],
      "text/plain": [
       "                Player     Year    Age      G   GS       MP    PER    TS%  \\\n",
       "375  Wilt Chamberlain*  23575.0  331.0  860.0  0.0  40014.0  338.0  6.488   \n",
       "29       Bill Russell*  19645.0  295.0  776.0  0.0  33412.0  182.7  4.712   \n",
       "357      Walt Bellamy*  23594.0  314.0  816.0  0.0  32072.0  244.0  6.628   \n",
       "128      Elgin Baylor*  19645.0  295.0  711.0  0.0  28499.0  226.9  4.900   \n",
       "196       Jerry Lucas*  11799.0  153.0  461.0  0.0  19906.0  115.9  3.291   \n",
       "14      Bailey Howell*  19645.0  275.0  786.0  0.0  26960.0  195.9  5.492   \n",
       "238       Johnny Green  27513.0  437.0  912.0  0.0  20125.0  234.7  6.894   \n",
       "297          Ray Scott  19658.0  268.0  683.0  0.0  22392.0  155.2  4.562   \n",
       "274     Nate Thurmond*  11799.0  147.0  413.0  0.0  16221.0   98.4  2.736   \n",
       "46         Bob Pettit*  11775.0  177.0  435.0  0.0  17345.0  144.3  3.113   \n",
       "\n",
       "     3PAr    FTr  ...    FT%  ORB  DRB    TRB   AST  STL  BLK  TOV      PF  \\\n",
       "375   0.0  6.125  ...  6.009  0.0  0.0  20785  3798  0.0  0.0  0.0  1629.0   \n",
       "29    0.0  4.461  ...  5.659  0.0  0.0  17501  3588  0.0  0.0  0.0  2107.0   \n",
       "357   0.0  6.303  ...  7.731  0.0  0.0  12071  1952  0.0  0.0  0.0  2886.0   \n",
       "128   0.0  3.588  ...  7.783  0.0  0.0   9786  3051  0.0  0.0  0.0  2168.0   \n",
       "196   0.0  1.914  ...  4.704  0.0  0.0   8831  1399  0.0  0.0  0.0  1517.0   \n",
       "14    0.0  4.719  ...  7.601  0.0  0.0   8392  1618  0.0  0.0  0.0  3003.0   \n",
       "238   0.0  6.097  ...  7.074  0.0  0.0   7855  1256  0.0  0.0  0.0  2278.0   \n",
       "297   0.0  3.408  ...  7.113  0.0  0.0   7457  1664  0.0  0.0  0.0  2103.0   \n",
       "274   0.0  2.315  ...  3.749  0.0  0.0   7402   988  0.0  0.0  0.0  1130.0   \n",
       "46    0.0  2.804  ...  4.631  0.0  0.0   7256  1440  0.0  0.0  0.0  1466.0   \n",
       "\n",
       "       PTS  \n",
       "375  29632  \n",
       "29   11506  \n",
       "357  18433  \n",
       "128  19983  \n",
       "196   9066  \n",
       "14   15859  \n",
       "238  10218  \n",
       "297  10703  \n",
       "274   6778  \n",
       "46   11986  \n",
       "\n",
       "[10 rows x 50 columns]"
      ]
     },
     "execution_count": 35,
     "metadata": {},
     "output_type": "execute_result"
    }
   ],
   "source": [
    "# Top 10 Players NBA 1960-1969 Total Rebonds\n",
    "df_maxrebounds=Stats_by_Player_total.sort_values(['TRB'], ascending=False)\n",
    "df_maxrebounds.head(10)"
   ]
  },
  {
   "cell_type": "code",
   "execution_count": 36,
   "id": "5b9c88fc",
   "metadata": {},
   "outputs": [
    {
     "data": {
      "application/vnd.plotly.v1+json": {
       "config": {
        "plotlyServerURL": "https://plot.ly"
       },
       "data": [
        {
         "marker": {
          "color": [
           20785,
           17501,
           12071,
           9786,
           8831,
           8392,
           7855,
           7457,
           7402,
           7256
          ],
          "colorscale": [
           [
            0,
            "rgb(20, 29, 67)"
           ],
           [
            0.09090909090909091,
            "rgb(28, 72, 93)"
           ],
           [
            0.18181818181818182,
            "rgb(18, 115, 117)"
           ],
           [
            0.2727272727272727,
            "rgb(63, 156, 129)"
           ],
           [
            0.36363636363636365,
            "rgb(153, 189, 156)"
           ],
           [
            0.45454545454545453,
            "rgb(223, 225, 211)"
           ],
           [
            0.5454545454545454,
            "rgb(241, 218, 206)"
           ],
           [
            0.6363636363636364,
            "rgb(224, 160, 137)"
           ],
           [
            0.7272727272727273,
            "rgb(203, 101, 99)"
           ],
           [
            0.8181818181818182,
            "rgb(164, 54, 96)"
           ],
           [
            0.9090909090909091,
            "rgb(111, 23, 91)"
           ],
           [
            1,
            "rgb(51, 13, 53)"
           ]
          ]
         },
         "text": [
          20785,
          17501,
          12071,
          9786,
          8831,
          8392,
          7855,
          7457,
          7402,
          7256
         ],
         "textposition": "outside",
         "type": "bar",
         "x": [
          "Wilt Chamberlain*",
          "Bill Russell*",
          "Walt Bellamy*",
          "Elgin Baylor*",
          "Jerry Lucas*",
          "Bailey Howell*",
          "Johnny Green",
          "Ray Scott",
          "Nate Thurmond*",
          "Bob Pettit*"
         ],
         "y": [
          20785,
          17501,
          12071,
          9786,
          8831,
          8392,
          7855,
          7457,
          7402,
          7256
         ]
        }
       ],
       "layout": {
        "template": {
         "data": {
          "bar": [
           {
            "error_x": {
             "color": "#2a3f5f"
            },
            "error_y": {
             "color": "#2a3f5f"
            },
            "marker": {
             "line": {
              "color": "#E5ECF6",
              "width": 0.5
             },
             "pattern": {
              "fillmode": "overlay",
              "size": 10,
              "solidity": 0.2
             }
            },
            "type": "bar"
           }
          ],
          "barpolar": [
           {
            "marker": {
             "line": {
              "color": "#E5ECF6",
              "width": 0.5
             },
             "pattern": {
              "fillmode": "overlay",
              "size": 10,
              "solidity": 0.2
             }
            },
            "type": "barpolar"
           }
          ],
          "carpet": [
           {
            "aaxis": {
             "endlinecolor": "#2a3f5f",
             "gridcolor": "white",
             "linecolor": "white",
             "minorgridcolor": "white",
             "startlinecolor": "#2a3f5f"
            },
            "baxis": {
             "endlinecolor": "#2a3f5f",
             "gridcolor": "white",
             "linecolor": "white",
             "minorgridcolor": "white",
             "startlinecolor": "#2a3f5f"
            },
            "type": "carpet"
           }
          ],
          "choropleth": [
           {
            "colorbar": {
             "outlinewidth": 0,
             "ticks": ""
            },
            "type": "choropleth"
           }
          ],
          "contour": [
           {
            "colorbar": {
             "outlinewidth": 0,
             "ticks": ""
            },
            "colorscale": [
             [
              0,
              "#0d0887"
             ],
             [
              0.1111111111111111,
              "#46039f"
             ],
             [
              0.2222222222222222,
              "#7201a8"
             ],
             [
              0.3333333333333333,
              "#9c179e"
             ],
             [
              0.4444444444444444,
              "#bd3786"
             ],
             [
              0.5555555555555556,
              "#d8576b"
             ],
             [
              0.6666666666666666,
              "#ed7953"
             ],
             [
              0.7777777777777778,
              "#fb9f3a"
             ],
             [
              0.8888888888888888,
              "#fdca26"
             ],
             [
              1,
              "#f0f921"
             ]
            ],
            "type": "contour"
           }
          ],
          "contourcarpet": [
           {
            "colorbar": {
             "outlinewidth": 0,
             "ticks": ""
            },
            "type": "contourcarpet"
           }
          ],
          "heatmap": [
           {
            "colorbar": {
             "outlinewidth": 0,
             "ticks": ""
            },
            "colorscale": [
             [
              0,
              "#0d0887"
             ],
             [
              0.1111111111111111,
              "#46039f"
             ],
             [
              0.2222222222222222,
              "#7201a8"
             ],
             [
              0.3333333333333333,
              "#9c179e"
             ],
             [
              0.4444444444444444,
              "#bd3786"
             ],
             [
              0.5555555555555556,
              "#d8576b"
             ],
             [
              0.6666666666666666,
              "#ed7953"
             ],
             [
              0.7777777777777778,
              "#fb9f3a"
             ],
             [
              0.8888888888888888,
              "#fdca26"
             ],
             [
              1,
              "#f0f921"
             ]
            ],
            "type": "heatmap"
           }
          ],
          "heatmapgl": [
           {
            "colorbar": {
             "outlinewidth": 0,
             "ticks": ""
            },
            "colorscale": [
             [
              0,
              "#0d0887"
             ],
             [
              0.1111111111111111,
              "#46039f"
             ],
             [
              0.2222222222222222,
              "#7201a8"
             ],
             [
              0.3333333333333333,
              "#9c179e"
             ],
             [
              0.4444444444444444,
              "#bd3786"
             ],
             [
              0.5555555555555556,
              "#d8576b"
             ],
             [
              0.6666666666666666,
              "#ed7953"
             ],
             [
              0.7777777777777778,
              "#fb9f3a"
             ],
             [
              0.8888888888888888,
              "#fdca26"
             ],
             [
              1,
              "#f0f921"
             ]
            ],
            "type": "heatmapgl"
           }
          ],
          "histogram": [
           {
            "marker": {
             "pattern": {
              "fillmode": "overlay",
              "size": 10,
              "solidity": 0.2
             }
            },
            "type": "histogram"
           }
          ],
          "histogram2d": [
           {
            "colorbar": {
             "outlinewidth": 0,
             "ticks": ""
            },
            "colorscale": [
             [
              0,
              "#0d0887"
             ],
             [
              0.1111111111111111,
              "#46039f"
             ],
             [
              0.2222222222222222,
              "#7201a8"
             ],
             [
              0.3333333333333333,
              "#9c179e"
             ],
             [
              0.4444444444444444,
              "#bd3786"
             ],
             [
              0.5555555555555556,
              "#d8576b"
             ],
             [
              0.6666666666666666,
              "#ed7953"
             ],
             [
              0.7777777777777778,
              "#fb9f3a"
             ],
             [
              0.8888888888888888,
              "#fdca26"
             ],
             [
              1,
              "#f0f921"
             ]
            ],
            "type": "histogram2d"
           }
          ],
          "histogram2dcontour": [
           {
            "colorbar": {
             "outlinewidth": 0,
             "ticks": ""
            },
            "colorscale": [
             [
              0,
              "#0d0887"
             ],
             [
              0.1111111111111111,
              "#46039f"
             ],
             [
              0.2222222222222222,
              "#7201a8"
             ],
             [
              0.3333333333333333,
              "#9c179e"
             ],
             [
              0.4444444444444444,
              "#bd3786"
             ],
             [
              0.5555555555555556,
              "#d8576b"
             ],
             [
              0.6666666666666666,
              "#ed7953"
             ],
             [
              0.7777777777777778,
              "#fb9f3a"
             ],
             [
              0.8888888888888888,
              "#fdca26"
             ],
             [
              1,
              "#f0f921"
             ]
            ],
            "type": "histogram2dcontour"
           }
          ],
          "mesh3d": [
           {
            "colorbar": {
             "outlinewidth": 0,
             "ticks": ""
            },
            "type": "mesh3d"
           }
          ],
          "parcoords": [
           {
            "line": {
             "colorbar": {
              "outlinewidth": 0,
              "ticks": ""
             }
            },
            "type": "parcoords"
           }
          ],
          "pie": [
           {
            "automargin": true,
            "type": "pie"
           }
          ],
          "scatter": [
           {
            "fillpattern": {
             "fillmode": "overlay",
             "size": 10,
             "solidity": 0.2
            },
            "type": "scatter"
           }
          ],
          "scatter3d": [
           {
            "line": {
             "colorbar": {
              "outlinewidth": 0,
              "ticks": ""
             }
            },
            "marker": {
             "colorbar": {
              "outlinewidth": 0,
              "ticks": ""
             }
            },
            "type": "scatter3d"
           }
          ],
          "scattercarpet": [
           {
            "marker": {
             "colorbar": {
              "outlinewidth": 0,
              "ticks": ""
             }
            },
            "type": "scattercarpet"
           }
          ],
          "scattergeo": [
           {
            "marker": {
             "colorbar": {
              "outlinewidth": 0,
              "ticks": ""
             }
            },
            "type": "scattergeo"
           }
          ],
          "scattergl": [
           {
            "marker": {
             "colorbar": {
              "outlinewidth": 0,
              "ticks": ""
             }
            },
            "type": "scattergl"
           }
          ],
          "scattermapbox": [
           {
            "marker": {
             "colorbar": {
              "outlinewidth": 0,
              "ticks": ""
             }
            },
            "type": "scattermapbox"
           }
          ],
          "scatterpolar": [
           {
            "marker": {
             "colorbar": {
              "outlinewidth": 0,
              "ticks": ""
             }
            },
            "type": "scatterpolar"
           }
          ],
          "scatterpolargl": [
           {
            "marker": {
             "colorbar": {
              "outlinewidth": 0,
              "ticks": ""
             }
            },
            "type": "scatterpolargl"
           }
          ],
          "scatterternary": [
           {
            "marker": {
             "colorbar": {
              "outlinewidth": 0,
              "ticks": ""
             }
            },
            "type": "scatterternary"
           }
          ],
          "surface": [
           {
            "colorbar": {
             "outlinewidth": 0,
             "ticks": ""
            },
            "colorscale": [
             [
              0,
              "#0d0887"
             ],
             [
              0.1111111111111111,
              "#46039f"
             ],
             [
              0.2222222222222222,
              "#7201a8"
             ],
             [
              0.3333333333333333,
              "#9c179e"
             ],
             [
              0.4444444444444444,
              "#bd3786"
             ],
             [
              0.5555555555555556,
              "#d8576b"
             ],
             [
              0.6666666666666666,
              "#ed7953"
             ],
             [
              0.7777777777777778,
              "#fb9f3a"
             ],
             [
              0.8888888888888888,
              "#fdca26"
             ],
             [
              1,
              "#f0f921"
             ]
            ],
            "type": "surface"
           }
          ],
          "table": [
           {
            "cells": {
             "fill": {
              "color": "#EBF0F8"
             },
             "line": {
              "color": "white"
             }
            },
            "header": {
             "fill": {
              "color": "#C8D4E3"
             },
             "line": {
              "color": "white"
             }
            },
            "type": "table"
           }
          ]
         },
         "layout": {
          "annotationdefaults": {
           "arrowcolor": "#2a3f5f",
           "arrowhead": 0,
           "arrowwidth": 1
          },
          "autotypenumbers": "strict",
          "coloraxis": {
           "colorbar": {
            "outlinewidth": 0,
            "ticks": ""
           }
          },
          "colorscale": {
           "diverging": [
            [
             0,
             "#8e0152"
            ],
            [
             0.1,
             "#c51b7d"
            ],
            [
             0.2,
             "#de77ae"
            ],
            [
             0.3,
             "#f1b6da"
            ],
            [
             0.4,
             "#fde0ef"
            ],
            [
             0.5,
             "#f7f7f7"
            ],
            [
             0.6,
             "#e6f5d0"
            ],
            [
             0.7,
             "#b8e186"
            ],
            [
             0.8,
             "#7fbc41"
            ],
            [
             0.9,
             "#4d9221"
            ],
            [
             1,
             "#276419"
            ]
           ],
           "sequential": [
            [
             0,
             "#0d0887"
            ],
            [
             0.1111111111111111,
             "#46039f"
            ],
            [
             0.2222222222222222,
             "#7201a8"
            ],
            [
             0.3333333333333333,
             "#9c179e"
            ],
            [
             0.4444444444444444,
             "#bd3786"
            ],
            [
             0.5555555555555556,
             "#d8576b"
            ],
            [
             0.6666666666666666,
             "#ed7953"
            ],
            [
             0.7777777777777778,
             "#fb9f3a"
            ],
            [
             0.8888888888888888,
             "#fdca26"
            ],
            [
             1,
             "#f0f921"
            ]
           ],
           "sequentialminus": [
            [
             0,
             "#0d0887"
            ],
            [
             0.1111111111111111,
             "#46039f"
            ],
            [
             0.2222222222222222,
             "#7201a8"
            ],
            [
             0.3333333333333333,
             "#9c179e"
            ],
            [
             0.4444444444444444,
             "#bd3786"
            ],
            [
             0.5555555555555556,
             "#d8576b"
            ],
            [
             0.6666666666666666,
             "#ed7953"
            ],
            [
             0.7777777777777778,
             "#fb9f3a"
            ],
            [
             0.8888888888888888,
             "#fdca26"
            ],
            [
             1,
             "#f0f921"
            ]
           ]
          },
          "colorway": [
           "#636efa",
           "#EF553B",
           "#00cc96",
           "#ab63fa",
           "#FFA15A",
           "#19d3f3",
           "#FF6692",
           "#B6E880",
           "#FF97FF",
           "#FECB52"
          ],
          "font": {
           "color": "#2a3f5f"
          },
          "geo": {
           "bgcolor": "white",
           "lakecolor": "white",
           "landcolor": "#E5ECF6",
           "showlakes": true,
           "showland": true,
           "subunitcolor": "white"
          },
          "hoverlabel": {
           "align": "left"
          },
          "hovermode": "closest",
          "mapbox": {
           "style": "light"
          },
          "paper_bgcolor": "white",
          "plot_bgcolor": "#E5ECF6",
          "polar": {
           "angularaxis": {
            "gridcolor": "white",
            "linecolor": "white",
            "ticks": ""
           },
           "bgcolor": "#E5ECF6",
           "radialaxis": {
            "gridcolor": "white",
            "linecolor": "white",
            "ticks": ""
           }
          },
          "scene": {
           "xaxis": {
            "backgroundcolor": "#E5ECF6",
            "gridcolor": "white",
            "gridwidth": 2,
            "linecolor": "white",
            "showbackground": true,
            "ticks": "",
            "zerolinecolor": "white"
           },
           "yaxis": {
            "backgroundcolor": "#E5ECF6",
            "gridcolor": "white",
            "gridwidth": 2,
            "linecolor": "white",
            "showbackground": true,
            "ticks": "",
            "zerolinecolor": "white"
           },
           "zaxis": {
            "backgroundcolor": "#E5ECF6",
            "gridcolor": "white",
            "gridwidth": 2,
            "linecolor": "white",
            "showbackground": true,
            "ticks": "",
            "zerolinecolor": "white"
           }
          },
          "shapedefaults": {
           "line": {
            "color": "#2a3f5f"
           }
          },
          "ternary": {
           "aaxis": {
            "gridcolor": "white",
            "linecolor": "white",
            "ticks": ""
           },
           "baxis": {
            "gridcolor": "white",
            "linecolor": "white",
            "ticks": ""
           },
           "bgcolor": "#E5ECF6",
           "caxis": {
            "gridcolor": "white",
            "linecolor": "white",
            "ticks": ""
           }
          },
          "title": {
           "x": 0.05
          },
          "xaxis": {
           "automargin": true,
           "gridcolor": "white",
           "linecolor": "white",
           "ticks": "",
           "title": {
            "standoff": 15
           },
           "zerolinecolor": "white",
           "zerolinewidth": 2
          },
          "yaxis": {
           "automargin": true,
           "gridcolor": "white",
           "linecolor": "white",
           "ticks": "",
           "title": {
            "standoff": 15
           },
           "zerolinecolor": "white",
           "zerolinewidth": 2
          }
         }
        },
        "title": {
         "text": "Top 10 Players NBA 1960-1969 Total Rebounds",
         "x": 0.5
        }
       }
      },
      "text/html": [
       "<div>                            <div id=\"50b36b1e-d7b5-4ff5-84d6-c51a5c44e91b\" class=\"plotly-graph-div\" style=\"height:525px; width:100%;\"></div>            <script type=\"text/javascript\">                require([\"plotly\"], function(Plotly) {                    window.PLOTLYENV=window.PLOTLYENV || {};                                    if (document.getElementById(\"50b36b1e-d7b5-4ff5-84d6-c51a5c44e91b\")) {                    Plotly.newPlot(                        \"50b36b1e-d7b5-4ff5-84d6-c51a5c44e91b\",                        [{\"marker\":{\"color\":[20785,17501,12071,9786,8831,8392,7855,7457,7402,7256],\"colorscale\":[[0.0,\"rgb(20, 29, 67)\"],[0.09090909090909091,\"rgb(28, 72, 93)\"],[0.18181818181818182,\"rgb(18, 115, 117)\"],[0.2727272727272727,\"rgb(63, 156, 129)\"],[0.36363636363636365,\"rgb(153, 189, 156)\"],[0.45454545454545453,\"rgb(223, 225, 211)\"],[0.5454545454545454,\"rgb(241, 218, 206)\"],[0.6363636363636364,\"rgb(224, 160, 137)\"],[0.7272727272727273,\"rgb(203, 101, 99)\"],[0.8181818181818182,\"rgb(164, 54, 96)\"],[0.9090909090909091,\"rgb(111, 23, 91)\"],[1.0,\"rgb(51, 13, 53)\"]]},\"text\":[20785.0,17501.0,12071.0,9786.0,8831.0,8392.0,7855.0,7457.0,7402.0,7256.0],\"textposition\":\"outside\",\"x\":[\"Wilt Chamberlain*\",\"Bill Russell*\",\"Walt Bellamy*\",\"Elgin Baylor*\",\"Jerry Lucas*\",\"Bailey Howell*\",\"Johnny Green\",\"Ray Scott\",\"Nate Thurmond*\",\"Bob Pettit*\"],\"y\":[20785,17501,12071,9786,8831,8392,7855,7457,7402,7256],\"type\":\"bar\"}],                        {\"template\":{\"data\":{\"histogram2dcontour\":[{\"type\":\"histogram2dcontour\",\"colorbar\":{\"outlinewidth\":0,\"ticks\":\"\"},\"colorscale\":[[0.0,\"#0d0887\"],[0.1111111111111111,\"#46039f\"],[0.2222222222222222,\"#7201a8\"],[0.3333333333333333,\"#9c179e\"],[0.4444444444444444,\"#bd3786\"],[0.5555555555555556,\"#d8576b\"],[0.6666666666666666,\"#ed7953\"],[0.7777777777777778,\"#fb9f3a\"],[0.8888888888888888,\"#fdca26\"],[1.0,\"#f0f921\"]]}],\"choropleth\":[{\"type\":\"choropleth\",\"colorbar\":{\"outlinewidth\":0,\"ticks\":\"\"}}],\"histogram2d\":[{\"type\":\"histogram2d\",\"colorbar\":{\"outlinewidth\":0,\"ticks\":\"\"},\"colorscale\":[[0.0,\"#0d0887\"],[0.1111111111111111,\"#46039f\"],[0.2222222222222222,\"#7201a8\"],[0.3333333333333333,\"#9c179e\"],[0.4444444444444444,\"#bd3786\"],[0.5555555555555556,\"#d8576b\"],[0.6666666666666666,\"#ed7953\"],[0.7777777777777778,\"#fb9f3a\"],[0.8888888888888888,\"#fdca26\"],[1.0,\"#f0f921\"]]}],\"heatmap\":[{\"type\":\"heatmap\",\"colorbar\":{\"outlinewidth\":0,\"ticks\":\"\"},\"colorscale\":[[0.0,\"#0d0887\"],[0.1111111111111111,\"#46039f\"],[0.2222222222222222,\"#7201a8\"],[0.3333333333333333,\"#9c179e\"],[0.4444444444444444,\"#bd3786\"],[0.5555555555555556,\"#d8576b\"],[0.6666666666666666,\"#ed7953\"],[0.7777777777777778,\"#fb9f3a\"],[0.8888888888888888,\"#fdca26\"],[1.0,\"#f0f921\"]]}],\"heatmapgl\":[{\"type\":\"heatmapgl\",\"colorbar\":{\"outlinewidth\":0,\"ticks\":\"\"},\"colorscale\":[[0.0,\"#0d0887\"],[0.1111111111111111,\"#46039f\"],[0.2222222222222222,\"#7201a8\"],[0.3333333333333333,\"#9c179e\"],[0.4444444444444444,\"#bd3786\"],[0.5555555555555556,\"#d8576b\"],[0.6666666666666666,\"#ed7953\"],[0.7777777777777778,\"#fb9f3a\"],[0.8888888888888888,\"#fdca26\"],[1.0,\"#f0f921\"]]}],\"contourcarpet\":[{\"type\":\"contourcarpet\",\"colorbar\":{\"outlinewidth\":0,\"ticks\":\"\"}}],\"contour\":[{\"type\":\"contour\",\"colorbar\":{\"outlinewidth\":0,\"ticks\":\"\"},\"colorscale\":[[0.0,\"#0d0887\"],[0.1111111111111111,\"#46039f\"],[0.2222222222222222,\"#7201a8\"],[0.3333333333333333,\"#9c179e\"],[0.4444444444444444,\"#bd3786\"],[0.5555555555555556,\"#d8576b\"],[0.6666666666666666,\"#ed7953\"],[0.7777777777777778,\"#fb9f3a\"],[0.8888888888888888,\"#fdca26\"],[1.0,\"#f0f921\"]]}],\"surface\":[{\"type\":\"surface\",\"colorbar\":{\"outlinewidth\":0,\"ticks\":\"\"},\"colorscale\":[[0.0,\"#0d0887\"],[0.1111111111111111,\"#46039f\"],[0.2222222222222222,\"#7201a8\"],[0.3333333333333333,\"#9c179e\"],[0.4444444444444444,\"#bd3786\"],[0.5555555555555556,\"#d8576b\"],[0.6666666666666666,\"#ed7953\"],[0.7777777777777778,\"#fb9f3a\"],[0.8888888888888888,\"#fdca26\"],[1.0,\"#f0f921\"]]}],\"mesh3d\":[{\"type\":\"mesh3d\",\"colorbar\":{\"outlinewidth\":0,\"ticks\":\"\"}}],\"scatter\":[{\"fillpattern\":{\"fillmode\":\"overlay\",\"size\":10,\"solidity\":0.2},\"type\":\"scatter\"}],\"parcoords\":[{\"type\":\"parcoords\",\"line\":{\"colorbar\":{\"outlinewidth\":0,\"ticks\":\"\"}}}],\"scatterpolargl\":[{\"type\":\"scatterpolargl\",\"marker\":{\"colorbar\":{\"outlinewidth\":0,\"ticks\":\"\"}}}],\"bar\":[{\"error_x\":{\"color\":\"#2a3f5f\"},\"error_y\":{\"color\":\"#2a3f5f\"},\"marker\":{\"line\":{\"color\":\"#E5ECF6\",\"width\":0.5},\"pattern\":{\"fillmode\":\"overlay\",\"size\":10,\"solidity\":0.2}},\"type\":\"bar\"}],\"scattergeo\":[{\"type\":\"scattergeo\",\"marker\":{\"colorbar\":{\"outlinewidth\":0,\"ticks\":\"\"}}}],\"scatterpolar\":[{\"type\":\"scatterpolar\",\"marker\":{\"colorbar\":{\"outlinewidth\":0,\"ticks\":\"\"}}}],\"histogram\":[{\"marker\":{\"pattern\":{\"fillmode\":\"overlay\",\"size\":10,\"solidity\":0.2}},\"type\":\"histogram\"}],\"scattergl\":[{\"type\":\"scattergl\",\"marker\":{\"colorbar\":{\"outlinewidth\":0,\"ticks\":\"\"}}}],\"scatter3d\":[{\"type\":\"scatter3d\",\"line\":{\"colorbar\":{\"outlinewidth\":0,\"ticks\":\"\"}},\"marker\":{\"colorbar\":{\"outlinewidth\":0,\"ticks\":\"\"}}}],\"scattermapbox\":[{\"type\":\"scattermapbox\",\"marker\":{\"colorbar\":{\"outlinewidth\":0,\"ticks\":\"\"}}}],\"scatterternary\":[{\"type\":\"scatterternary\",\"marker\":{\"colorbar\":{\"outlinewidth\":0,\"ticks\":\"\"}}}],\"scattercarpet\":[{\"type\":\"scattercarpet\",\"marker\":{\"colorbar\":{\"outlinewidth\":0,\"ticks\":\"\"}}}],\"carpet\":[{\"aaxis\":{\"endlinecolor\":\"#2a3f5f\",\"gridcolor\":\"white\",\"linecolor\":\"white\",\"minorgridcolor\":\"white\",\"startlinecolor\":\"#2a3f5f\"},\"baxis\":{\"endlinecolor\":\"#2a3f5f\",\"gridcolor\":\"white\",\"linecolor\":\"white\",\"minorgridcolor\":\"white\",\"startlinecolor\":\"#2a3f5f\"},\"type\":\"carpet\"}],\"table\":[{\"cells\":{\"fill\":{\"color\":\"#EBF0F8\"},\"line\":{\"color\":\"white\"}},\"header\":{\"fill\":{\"color\":\"#C8D4E3\"},\"line\":{\"color\":\"white\"}},\"type\":\"table\"}],\"barpolar\":[{\"marker\":{\"line\":{\"color\":\"#E5ECF6\",\"width\":0.5},\"pattern\":{\"fillmode\":\"overlay\",\"size\":10,\"solidity\":0.2}},\"type\":\"barpolar\"}],\"pie\":[{\"automargin\":true,\"type\":\"pie\"}]},\"layout\":{\"autotypenumbers\":\"strict\",\"colorway\":[\"#636efa\",\"#EF553B\",\"#00cc96\",\"#ab63fa\",\"#FFA15A\",\"#19d3f3\",\"#FF6692\",\"#B6E880\",\"#FF97FF\",\"#FECB52\"],\"font\":{\"color\":\"#2a3f5f\"},\"hovermode\":\"closest\",\"hoverlabel\":{\"align\":\"left\"},\"paper_bgcolor\":\"white\",\"plot_bgcolor\":\"#E5ECF6\",\"polar\":{\"bgcolor\":\"#E5ECF6\",\"angularaxis\":{\"gridcolor\":\"white\",\"linecolor\":\"white\",\"ticks\":\"\"},\"radialaxis\":{\"gridcolor\":\"white\",\"linecolor\":\"white\",\"ticks\":\"\"}},\"ternary\":{\"bgcolor\":\"#E5ECF6\",\"aaxis\":{\"gridcolor\":\"white\",\"linecolor\":\"white\",\"ticks\":\"\"},\"baxis\":{\"gridcolor\":\"white\",\"linecolor\":\"white\",\"ticks\":\"\"},\"caxis\":{\"gridcolor\":\"white\",\"linecolor\":\"white\",\"ticks\":\"\"}},\"coloraxis\":{\"colorbar\":{\"outlinewidth\":0,\"ticks\":\"\"}},\"colorscale\":{\"sequential\":[[0.0,\"#0d0887\"],[0.1111111111111111,\"#46039f\"],[0.2222222222222222,\"#7201a8\"],[0.3333333333333333,\"#9c179e\"],[0.4444444444444444,\"#bd3786\"],[0.5555555555555556,\"#d8576b\"],[0.6666666666666666,\"#ed7953\"],[0.7777777777777778,\"#fb9f3a\"],[0.8888888888888888,\"#fdca26\"],[1.0,\"#f0f921\"]],\"sequentialminus\":[[0.0,\"#0d0887\"],[0.1111111111111111,\"#46039f\"],[0.2222222222222222,\"#7201a8\"],[0.3333333333333333,\"#9c179e\"],[0.4444444444444444,\"#bd3786\"],[0.5555555555555556,\"#d8576b\"],[0.6666666666666666,\"#ed7953\"],[0.7777777777777778,\"#fb9f3a\"],[0.8888888888888888,\"#fdca26\"],[1.0,\"#f0f921\"]],\"diverging\":[[0,\"#8e0152\"],[0.1,\"#c51b7d\"],[0.2,\"#de77ae\"],[0.3,\"#f1b6da\"],[0.4,\"#fde0ef\"],[0.5,\"#f7f7f7\"],[0.6,\"#e6f5d0\"],[0.7,\"#b8e186\"],[0.8,\"#7fbc41\"],[0.9,\"#4d9221\"],[1,\"#276419\"]]},\"xaxis\":{\"gridcolor\":\"white\",\"linecolor\":\"white\",\"ticks\":\"\",\"title\":{\"standoff\":15},\"zerolinecolor\":\"white\",\"automargin\":true,\"zerolinewidth\":2},\"yaxis\":{\"gridcolor\":\"white\",\"linecolor\":\"white\",\"ticks\":\"\",\"title\":{\"standoff\":15},\"zerolinecolor\":\"white\",\"automargin\":true,\"zerolinewidth\":2},\"scene\":{\"xaxis\":{\"backgroundcolor\":\"#E5ECF6\",\"gridcolor\":\"white\",\"linecolor\":\"white\",\"showbackground\":true,\"ticks\":\"\",\"zerolinecolor\":\"white\",\"gridwidth\":2},\"yaxis\":{\"backgroundcolor\":\"#E5ECF6\",\"gridcolor\":\"white\",\"linecolor\":\"white\",\"showbackground\":true,\"ticks\":\"\",\"zerolinecolor\":\"white\",\"gridwidth\":2},\"zaxis\":{\"backgroundcolor\":\"#E5ECF6\",\"gridcolor\":\"white\",\"linecolor\":\"white\",\"showbackground\":true,\"ticks\":\"\",\"zerolinecolor\":\"white\",\"gridwidth\":2}},\"shapedefaults\":{\"line\":{\"color\":\"#2a3f5f\"}},\"annotationdefaults\":{\"arrowcolor\":\"#2a3f5f\",\"arrowhead\":0,\"arrowwidth\":1},\"geo\":{\"bgcolor\":\"white\",\"landcolor\":\"#E5ECF6\",\"subunitcolor\":\"white\",\"showland\":true,\"showlakes\":true,\"lakecolor\":\"white\"},\"title\":{\"x\":0.05},\"mapbox\":{\"style\":\"light\"}}},\"title\":{\"text\":\"Top 10 Players NBA 1960-1969 Total Rebounds\",\"x\":0.5}},                        {\"responsive\": true}                    ).then(function(){\n",
       "                            \n",
       "var gd = document.getElementById('50b36b1e-d7b5-4ff5-84d6-c51a5c44e91b');\n",
       "var x = new MutationObserver(function (mutations, observer) {{\n",
       "        var display = window.getComputedStyle(gd).display;\n",
       "        if (!display || display === 'none') {{\n",
       "            console.log([gd, 'removed!']);\n",
       "            Plotly.purge(gd);\n",
       "            observer.disconnect();\n",
       "        }}\n",
       "}});\n",
       "\n",
       "// Listen for the removal of the full notebook cells\n",
       "var notebookContainer = gd.closest('#notebook-container');\n",
       "if (notebookContainer) {{\n",
       "    x.observe(notebookContainer, {childList: true});\n",
       "}}\n",
       "\n",
       "// Listen for the clearing of the current output cell\n",
       "var outputEl = gd.closest('.output');\n",
       "if (outputEl) {{\n",
       "    x.observe(outputEl, {childList: true});\n",
       "}}\n",
       "\n",
       "                        })                };                });            </script>        </div>"
      ]
     },
     "metadata": {},
     "output_type": "display_data"
    }
   ],
   "source": [
    "df_maxrebounds=Stats_by_Player_total.sort_values(['TRB'], ascending=False)\n",
    "df_maxrebounds = df_maxrebounds[0:10]\n",
    "fig = go.Figure(go.Bar(\n",
    "    y=df_maxrebounds['TRB'],x=df_maxrebounds['Player'],\n",
    "    marker={'color': df_maxrebounds['TRB'], \n",
    "    'colorscale': 'curl'},  \n",
    "    text=df_maxrebounds['TRB'],\n",
    "    textposition = \"outside\",\n",
    "))\n",
    "fig.update_layout(title = \"Top 10 Players NBA 1960-1969 Total Rebounds\",title_x=0.5)\n",
    "fig.show()\n"
   ]
  },
  {
   "cell_type": "code",
   "execution_count": 39,
   "id": "e0dd2c93",
   "metadata": {},
   "outputs": [
    {
     "data": {
      "text/html": [
       "<div>\n",
       "<style scoped>\n",
       "    .dataframe tbody tr th:only-of-type {\n",
       "        vertical-align: middle;\n",
       "    }\n",
       "\n",
       "    .dataframe tbody tr th {\n",
       "        vertical-align: top;\n",
       "    }\n",
       "\n",
       "    .dataframe thead th {\n",
       "        text-align: right;\n",
       "    }\n",
       "</style>\n",
       "<table border=\"1\" class=\"dataframe\">\n",
       "  <thead>\n",
       "    <tr style=\"text-align: right;\">\n",
       "      <th></th>\n",
       "      <th>Player</th>\n",
       "      <th>Year</th>\n",
       "      <th>Age</th>\n",
       "      <th>G</th>\n",
       "      <th>GS</th>\n",
       "      <th>MP</th>\n",
       "      <th>PER</th>\n",
       "      <th>TS%</th>\n",
       "      <th>3PAr</th>\n",
       "      <th>FTr</th>\n",
       "      <th>...</th>\n",
       "      <th>FT%</th>\n",
       "      <th>ORB</th>\n",
       "      <th>DRB</th>\n",
       "      <th>TRB</th>\n",
       "      <th>AST</th>\n",
       "      <th>STL</th>\n",
       "      <th>BLK</th>\n",
       "      <th>TOV</th>\n",
       "      <th>PF</th>\n",
       "      <th>PTS</th>\n",
       "    </tr>\n",
       "  </thead>\n",
       "  <tbody>\n",
       "    <tr>\n",
       "      <th>375</th>\n",
       "      <td>Wilt Chamberlain*</td>\n",
       "      <td>23575.0</td>\n",
       "      <td>331.0</td>\n",
       "      <td>860.0</td>\n",
       "      <td>0.0</td>\n",
       "      <td>40014.0</td>\n",
       "      <td>338.0</td>\n",
       "      <td>6.488</td>\n",
       "      <td>0.0</td>\n",
       "      <td>6.125</td>\n",
       "      <td>...</td>\n",
       "      <td>6.009</td>\n",
       "      <td>0.0</td>\n",
       "      <td>0.0</td>\n",
       "      <td>20785</td>\n",
       "      <td>3798</td>\n",
       "      <td>0.0</td>\n",
       "      <td>0.0</td>\n",
       "      <td>0.0</td>\n",
       "      <td>1629.0</td>\n",
       "      <td>29632</td>\n",
       "    </tr>\n",
       "    <tr>\n",
       "      <th>278</th>\n",
       "      <td>Oscar Robertson*</td>\n",
       "      <td>17685.0</td>\n",
       "      <td>234.0</td>\n",
       "      <td>683.0</td>\n",
       "      <td>0.0</td>\n",
       "      <td>30223.0</td>\n",
       "      <td>227.9</td>\n",
       "      <td>5.147</td>\n",
       "      <td>0.0</td>\n",
       "      <td>4.540</td>\n",
       "      <td>...</td>\n",
       "      <td>7.553</td>\n",
       "      <td>0.0</td>\n",
       "      <td>0.0</td>\n",
       "      <td>5958</td>\n",
       "      <td>7173</td>\n",
       "      <td>0.0</td>\n",
       "      <td>0.0</td>\n",
       "      <td>0.0</td>\n",
       "      <td>2138.0</td>\n",
       "      <td>20261</td>\n",
       "    </tr>\n",
       "    <tr>\n",
       "      <th>128</th>\n",
       "      <td>Elgin Baylor*</td>\n",
       "      <td>19645.0</td>\n",
       "      <td>295.0</td>\n",
       "      <td>711.0</td>\n",
       "      <td>0.0</td>\n",
       "      <td>28499.0</td>\n",
       "      <td>226.9</td>\n",
       "      <td>4.900</td>\n",
       "      <td>0.0</td>\n",
       "      <td>3.588</td>\n",
       "      <td>...</td>\n",
       "      <td>7.783</td>\n",
       "      <td>0.0</td>\n",
       "      <td>0.0</td>\n",
       "      <td>9786</td>\n",
       "      <td>3051</td>\n",
       "      <td>0.0</td>\n",
       "      <td>0.0</td>\n",
       "      <td>0.0</td>\n",
       "      <td>2168.0</td>\n",
       "      <td>19983</td>\n",
       "    </tr>\n",
       "    <tr>\n",
       "      <th>357</th>\n",
       "      <td>Walt Bellamy*</td>\n",
       "      <td>23594.0</td>\n",
       "      <td>314.0</td>\n",
       "      <td>816.0</td>\n",
       "      <td>0.0</td>\n",
       "      <td>32072.0</td>\n",
       "      <td>244.0</td>\n",
       "      <td>6.628</td>\n",
       "      <td>0.0</td>\n",
       "      <td>6.303</td>\n",
       "      <td>...</td>\n",
       "      <td>7.731</td>\n",
       "      <td>0.0</td>\n",
       "      <td>0.0</td>\n",
       "      <td>12071</td>\n",
       "      <td>1952</td>\n",
       "      <td>0.0</td>\n",
       "      <td>0.0</td>\n",
       "      <td>0.0</td>\n",
       "      <td>2886.0</td>\n",
       "      <td>18433</td>\n",
       "    </tr>\n",
       "    <tr>\n",
       "      <th>198</th>\n",
       "      <td>Jerry West*</td>\n",
       "      <td>17685.0</td>\n",
       "      <td>234.0</td>\n",
       "      <td>612.0</td>\n",
       "      <td>0.0</td>\n",
       "      <td>24220.0</td>\n",
       "      <td>202.5</td>\n",
       "      <td>4.928</td>\n",
       "      <td>0.0</td>\n",
       "      <td>4.333</td>\n",
       "      <td>...</td>\n",
       "      <td>7.236</td>\n",
       "      <td>0.0</td>\n",
       "      <td>0.0</td>\n",
       "      <td>3976</td>\n",
       "      <td>3469</td>\n",
       "      <td>0.0</td>\n",
       "      <td>0.0</td>\n",
       "      <td>0.0</td>\n",
       "      <td>1668.0</td>\n",
       "      <td>16835</td>\n",
       "    </tr>\n",
       "    <tr>\n",
       "      <th>167</th>\n",
       "      <td>Hal Greer*</td>\n",
       "      <td>19645.0</td>\n",
       "      <td>275.0</td>\n",
       "      <td>774.0</td>\n",
       "      <td>0.0</td>\n",
       "      <td>28821.0</td>\n",
       "      <td>164.1</td>\n",
       "      <td>5.100</td>\n",
       "      <td>0.0</td>\n",
       "      <td>3.100</td>\n",
       "      <td>...</td>\n",
       "      <td>8.007</td>\n",
       "      <td>0.0</td>\n",
       "      <td>0.0</td>\n",
       "      <td>4352</td>\n",
       "      <td>3238</td>\n",
       "      <td>0.0</td>\n",
       "      <td>0.0</td>\n",
       "      <td>0.0</td>\n",
       "      <td>2733.0</td>\n",
       "      <td>16390</td>\n",
       "    </tr>\n",
       "    <tr>\n",
       "      <th>14</th>\n",
       "      <td>Bailey Howell*</td>\n",
       "      <td>19645.0</td>\n",
       "      <td>275.0</td>\n",
       "      <td>786.0</td>\n",
       "      <td>0.0</td>\n",
       "      <td>26960.0</td>\n",
       "      <td>195.9</td>\n",
       "      <td>5.492</td>\n",
       "      <td>0.0</td>\n",
       "      <td>4.719</td>\n",
       "      <td>...</td>\n",
       "      <td>7.601</td>\n",
       "      <td>0.0</td>\n",
       "      <td>0.0</td>\n",
       "      <td>8392</td>\n",
       "      <td>1618</td>\n",
       "      <td>0.0</td>\n",
       "      <td>0.0</td>\n",
       "      <td>0.0</td>\n",
       "      <td>3003.0</td>\n",
       "      <td>15859</td>\n",
       "    </tr>\n",
       "    <tr>\n",
       "      <th>320</th>\n",
       "      <td>Sam Jones*</td>\n",
       "      <td>19645.0</td>\n",
       "      <td>305.0</td>\n",
       "      <td>744.0</td>\n",
       "      <td>0.0</td>\n",
       "      <td>22225.0</td>\n",
       "      <td>186.8</td>\n",
       "      <td>5.037</td>\n",
       "      <td>0.0</td>\n",
       "      <td>2.551</td>\n",
       "      <td>...</td>\n",
       "      <td>8.031</td>\n",
       "      <td>0.0</td>\n",
       "      <td>0.0</td>\n",
       "      <td>3717</td>\n",
       "      <td>2071</td>\n",
       "      <td>0.0</td>\n",
       "      <td>0.0</td>\n",
       "      <td>0.0</td>\n",
       "      <td>1591.0</td>\n",
       "      <td>14390</td>\n",
       "    </tr>\n",
       "    <tr>\n",
       "      <th>303</th>\n",
       "      <td>Richie Guerin*</td>\n",
       "      <td>21605.0</td>\n",
       "      <td>342.0</td>\n",
       "      <td>714.0</td>\n",
       "      <td>0.0</td>\n",
       "      <td>23032.0</td>\n",
       "      <td>202.8</td>\n",
       "      <td>5.767</td>\n",
       "      <td>0.0</td>\n",
       "      <td>5.019</td>\n",
       "      <td>...</td>\n",
       "      <td>8.750</td>\n",
       "      <td>0.0</td>\n",
       "      <td>0.0</td>\n",
       "      <td>3191</td>\n",
       "      <td>3711</td>\n",
       "      <td>0.0</td>\n",
       "      <td>0.0</td>\n",
       "      <td>0.0</td>\n",
       "      <td>2393.0</td>\n",
       "      <td>12691</td>\n",
       "    </tr>\n",
       "    <tr>\n",
       "      <th>37</th>\n",
       "      <td>Bob Boozer</td>\n",
       "      <td>21613.0</td>\n",
       "      <td>295.0</td>\n",
       "      <td>793.0</td>\n",
       "      <td>0.0</td>\n",
       "      <td>23604.0</td>\n",
       "      <td>174.2</td>\n",
       "      <td>5.564</td>\n",
       "      <td>0.0</td>\n",
       "      <td>4.168</td>\n",
       "      <td>...</td>\n",
       "      <td>8.110</td>\n",
       "      <td>0.0</td>\n",
       "      <td>0.0</td>\n",
       "      <td>6563</td>\n",
       "      <td>1095</td>\n",
       "      <td>0.0</td>\n",
       "      <td>0.0</td>\n",
       "      <td>0.0</td>\n",
       "      <td>2267.0</td>\n",
       "      <td>12195</td>\n",
       "    </tr>\n",
       "  </tbody>\n",
       "</table>\n",
       "<p>10 rows × 50 columns</p>\n",
       "</div>"
      ],
      "text/plain": [
       "                Player     Year    Age      G   GS       MP    PER    TS%  \\\n",
       "375  Wilt Chamberlain*  23575.0  331.0  860.0  0.0  40014.0  338.0  6.488   \n",
       "278   Oscar Robertson*  17685.0  234.0  683.0  0.0  30223.0  227.9  5.147   \n",
       "128      Elgin Baylor*  19645.0  295.0  711.0  0.0  28499.0  226.9  4.900   \n",
       "357      Walt Bellamy*  23594.0  314.0  816.0  0.0  32072.0  244.0  6.628   \n",
       "198        Jerry West*  17685.0  234.0  612.0  0.0  24220.0  202.5  4.928   \n",
       "167         Hal Greer*  19645.0  275.0  774.0  0.0  28821.0  164.1  5.100   \n",
       "14      Bailey Howell*  19645.0  275.0  786.0  0.0  26960.0  195.9  5.492   \n",
       "320         Sam Jones*  19645.0  305.0  744.0  0.0  22225.0  186.8  5.037   \n",
       "303     Richie Guerin*  21605.0  342.0  714.0  0.0  23032.0  202.8  5.767   \n",
       "37          Bob Boozer  21613.0  295.0  793.0  0.0  23604.0  174.2  5.564   \n",
       "\n",
       "     3PAr    FTr  ...    FT%  ORB  DRB    TRB   AST  STL  BLK  TOV      PF  \\\n",
       "375   0.0  6.125  ...  6.009  0.0  0.0  20785  3798  0.0  0.0  0.0  1629.0   \n",
       "278   0.0  4.540  ...  7.553  0.0  0.0   5958  7173  0.0  0.0  0.0  2138.0   \n",
       "128   0.0  3.588  ...  7.783  0.0  0.0   9786  3051  0.0  0.0  0.0  2168.0   \n",
       "357   0.0  6.303  ...  7.731  0.0  0.0  12071  1952  0.0  0.0  0.0  2886.0   \n",
       "198   0.0  4.333  ...  7.236  0.0  0.0   3976  3469  0.0  0.0  0.0  1668.0   \n",
       "167   0.0  3.100  ...  8.007  0.0  0.0   4352  3238  0.0  0.0  0.0  2733.0   \n",
       "14    0.0  4.719  ...  7.601  0.0  0.0   8392  1618  0.0  0.0  0.0  3003.0   \n",
       "320   0.0  2.551  ...  8.031  0.0  0.0   3717  2071  0.0  0.0  0.0  1591.0   \n",
       "303   0.0  5.019  ...  8.750  0.0  0.0   3191  3711  0.0  0.0  0.0  2393.0   \n",
       "37    0.0  4.168  ...  8.110  0.0  0.0   6563  1095  0.0  0.0  0.0  2267.0   \n",
       "\n",
       "       PTS  \n",
       "375  29632  \n",
       "278  20261  \n",
       "128  19983  \n",
       "357  18433  \n",
       "198  16835  \n",
       "167  16390  \n",
       "14   15859  \n",
       "320  14390  \n",
       "303  12691  \n",
       "37   12195  \n",
       "\n",
       "[10 rows x 50 columns]"
      ]
     },
     "execution_count": 39,
     "metadata": {},
     "output_type": "execute_result"
    }
   ],
   "source": [
    "# Top 10 Players NBA 1960-1969 Total Points\n",
    "df_maxpoints=Stats_by_Player_total.sort_values(['PTS'], ascending=False)\n",
    "df_maxpoints.head(10)"
   ]
  },
  {
   "cell_type": "code",
   "execution_count": 42,
   "id": "72bca97d",
   "metadata": {},
   "outputs": [
    {
     "data": {
      "application/vnd.plotly.v1+json": {
       "config": {
        "plotlyServerURL": "https://plot.ly"
       },
       "data": [
        {
         "type": "funnel",
         "x": [
          29632,
          20261,
          19983,
          18433,
          16835,
          16390,
          15859,
          14390,
          12691,
          12195
         ],
         "y": [
          "Wilt Chamberlain*",
          "Oscar Robertson*",
          "Elgin Baylor*",
          "Walt Bellamy*",
          "Jerry West*",
          "Hal Greer*",
          "Bailey Howell*",
          "Sam Jones*",
          "Richie Guerin*",
          "Bob Boozer"
         ]
        }
       ],
       "layout": {
        "template": {
         "data": {
          "bar": [
           {
            "error_x": {
             "color": "#2a3f5f"
            },
            "error_y": {
             "color": "#2a3f5f"
            },
            "marker": {
             "line": {
              "color": "#E5ECF6",
              "width": 0.5
             },
             "pattern": {
              "fillmode": "overlay",
              "size": 10,
              "solidity": 0.2
             }
            },
            "type": "bar"
           }
          ],
          "barpolar": [
           {
            "marker": {
             "line": {
              "color": "#E5ECF6",
              "width": 0.5
             },
             "pattern": {
              "fillmode": "overlay",
              "size": 10,
              "solidity": 0.2
             }
            },
            "type": "barpolar"
           }
          ],
          "carpet": [
           {
            "aaxis": {
             "endlinecolor": "#2a3f5f",
             "gridcolor": "white",
             "linecolor": "white",
             "minorgridcolor": "white",
             "startlinecolor": "#2a3f5f"
            },
            "baxis": {
             "endlinecolor": "#2a3f5f",
             "gridcolor": "white",
             "linecolor": "white",
             "minorgridcolor": "white",
             "startlinecolor": "#2a3f5f"
            },
            "type": "carpet"
           }
          ],
          "choropleth": [
           {
            "colorbar": {
             "outlinewidth": 0,
             "ticks": ""
            },
            "type": "choropleth"
           }
          ],
          "contour": [
           {
            "colorbar": {
             "outlinewidth": 0,
             "ticks": ""
            },
            "colorscale": [
             [
              0,
              "#0d0887"
             ],
             [
              0.1111111111111111,
              "#46039f"
             ],
             [
              0.2222222222222222,
              "#7201a8"
             ],
             [
              0.3333333333333333,
              "#9c179e"
             ],
             [
              0.4444444444444444,
              "#bd3786"
             ],
             [
              0.5555555555555556,
              "#d8576b"
             ],
             [
              0.6666666666666666,
              "#ed7953"
             ],
             [
              0.7777777777777778,
              "#fb9f3a"
             ],
             [
              0.8888888888888888,
              "#fdca26"
             ],
             [
              1,
              "#f0f921"
             ]
            ],
            "type": "contour"
           }
          ],
          "contourcarpet": [
           {
            "colorbar": {
             "outlinewidth": 0,
             "ticks": ""
            },
            "type": "contourcarpet"
           }
          ],
          "heatmap": [
           {
            "colorbar": {
             "outlinewidth": 0,
             "ticks": ""
            },
            "colorscale": [
             [
              0,
              "#0d0887"
             ],
             [
              0.1111111111111111,
              "#46039f"
             ],
             [
              0.2222222222222222,
              "#7201a8"
             ],
             [
              0.3333333333333333,
              "#9c179e"
             ],
             [
              0.4444444444444444,
              "#bd3786"
             ],
             [
              0.5555555555555556,
              "#d8576b"
             ],
             [
              0.6666666666666666,
              "#ed7953"
             ],
             [
              0.7777777777777778,
              "#fb9f3a"
             ],
             [
              0.8888888888888888,
              "#fdca26"
             ],
             [
              1,
              "#f0f921"
             ]
            ],
            "type": "heatmap"
           }
          ],
          "heatmapgl": [
           {
            "colorbar": {
             "outlinewidth": 0,
             "ticks": ""
            },
            "colorscale": [
             [
              0,
              "#0d0887"
             ],
             [
              0.1111111111111111,
              "#46039f"
             ],
             [
              0.2222222222222222,
              "#7201a8"
             ],
             [
              0.3333333333333333,
              "#9c179e"
             ],
             [
              0.4444444444444444,
              "#bd3786"
             ],
             [
              0.5555555555555556,
              "#d8576b"
             ],
             [
              0.6666666666666666,
              "#ed7953"
             ],
             [
              0.7777777777777778,
              "#fb9f3a"
             ],
             [
              0.8888888888888888,
              "#fdca26"
             ],
             [
              1,
              "#f0f921"
             ]
            ],
            "type": "heatmapgl"
           }
          ],
          "histogram": [
           {
            "marker": {
             "pattern": {
              "fillmode": "overlay",
              "size": 10,
              "solidity": 0.2
             }
            },
            "type": "histogram"
           }
          ],
          "histogram2d": [
           {
            "colorbar": {
             "outlinewidth": 0,
             "ticks": ""
            },
            "colorscale": [
             [
              0,
              "#0d0887"
             ],
             [
              0.1111111111111111,
              "#46039f"
             ],
             [
              0.2222222222222222,
              "#7201a8"
             ],
             [
              0.3333333333333333,
              "#9c179e"
             ],
             [
              0.4444444444444444,
              "#bd3786"
             ],
             [
              0.5555555555555556,
              "#d8576b"
             ],
             [
              0.6666666666666666,
              "#ed7953"
             ],
             [
              0.7777777777777778,
              "#fb9f3a"
             ],
             [
              0.8888888888888888,
              "#fdca26"
             ],
             [
              1,
              "#f0f921"
             ]
            ],
            "type": "histogram2d"
           }
          ],
          "histogram2dcontour": [
           {
            "colorbar": {
             "outlinewidth": 0,
             "ticks": ""
            },
            "colorscale": [
             [
              0,
              "#0d0887"
             ],
             [
              0.1111111111111111,
              "#46039f"
             ],
             [
              0.2222222222222222,
              "#7201a8"
             ],
             [
              0.3333333333333333,
              "#9c179e"
             ],
             [
              0.4444444444444444,
              "#bd3786"
             ],
             [
              0.5555555555555556,
              "#d8576b"
             ],
             [
              0.6666666666666666,
              "#ed7953"
             ],
             [
              0.7777777777777778,
              "#fb9f3a"
             ],
             [
              0.8888888888888888,
              "#fdca26"
             ],
             [
              1,
              "#f0f921"
             ]
            ],
            "type": "histogram2dcontour"
           }
          ],
          "mesh3d": [
           {
            "colorbar": {
             "outlinewidth": 0,
             "ticks": ""
            },
            "type": "mesh3d"
           }
          ],
          "parcoords": [
           {
            "line": {
             "colorbar": {
              "outlinewidth": 0,
              "ticks": ""
             }
            },
            "type": "parcoords"
           }
          ],
          "pie": [
           {
            "automargin": true,
            "type": "pie"
           }
          ],
          "scatter": [
           {
            "fillpattern": {
             "fillmode": "overlay",
             "size": 10,
             "solidity": 0.2
            },
            "type": "scatter"
           }
          ],
          "scatter3d": [
           {
            "line": {
             "colorbar": {
              "outlinewidth": 0,
              "ticks": ""
             }
            },
            "marker": {
             "colorbar": {
              "outlinewidth": 0,
              "ticks": ""
             }
            },
            "type": "scatter3d"
           }
          ],
          "scattercarpet": [
           {
            "marker": {
             "colorbar": {
              "outlinewidth": 0,
              "ticks": ""
             }
            },
            "type": "scattercarpet"
           }
          ],
          "scattergeo": [
           {
            "marker": {
             "colorbar": {
              "outlinewidth": 0,
              "ticks": ""
             }
            },
            "type": "scattergeo"
           }
          ],
          "scattergl": [
           {
            "marker": {
             "colorbar": {
              "outlinewidth": 0,
              "ticks": ""
             }
            },
            "type": "scattergl"
           }
          ],
          "scattermapbox": [
           {
            "marker": {
             "colorbar": {
              "outlinewidth": 0,
              "ticks": ""
             }
            },
            "type": "scattermapbox"
           }
          ],
          "scatterpolar": [
           {
            "marker": {
             "colorbar": {
              "outlinewidth": 0,
              "ticks": ""
             }
            },
            "type": "scatterpolar"
           }
          ],
          "scatterpolargl": [
           {
            "marker": {
             "colorbar": {
              "outlinewidth": 0,
              "ticks": ""
             }
            },
            "type": "scatterpolargl"
           }
          ],
          "scatterternary": [
           {
            "marker": {
             "colorbar": {
              "outlinewidth": 0,
              "ticks": ""
             }
            },
            "type": "scatterternary"
           }
          ],
          "surface": [
           {
            "colorbar": {
             "outlinewidth": 0,
             "ticks": ""
            },
            "colorscale": [
             [
              0,
              "#0d0887"
             ],
             [
              0.1111111111111111,
              "#46039f"
             ],
             [
              0.2222222222222222,
              "#7201a8"
             ],
             [
              0.3333333333333333,
              "#9c179e"
             ],
             [
              0.4444444444444444,
              "#bd3786"
             ],
             [
              0.5555555555555556,
              "#d8576b"
             ],
             [
              0.6666666666666666,
              "#ed7953"
             ],
             [
              0.7777777777777778,
              "#fb9f3a"
             ],
             [
              0.8888888888888888,
              "#fdca26"
             ],
             [
              1,
              "#f0f921"
             ]
            ],
            "type": "surface"
           }
          ],
          "table": [
           {
            "cells": {
             "fill": {
              "color": "#EBF0F8"
             },
             "line": {
              "color": "white"
             }
            },
            "header": {
             "fill": {
              "color": "#C8D4E3"
             },
             "line": {
              "color": "white"
             }
            },
            "type": "table"
           }
          ]
         },
         "layout": {
          "annotationdefaults": {
           "arrowcolor": "#2a3f5f",
           "arrowhead": 0,
           "arrowwidth": 1
          },
          "autotypenumbers": "strict",
          "coloraxis": {
           "colorbar": {
            "outlinewidth": 0,
            "ticks": ""
           }
          },
          "colorscale": {
           "diverging": [
            [
             0,
             "#8e0152"
            ],
            [
             0.1,
             "#c51b7d"
            ],
            [
             0.2,
             "#de77ae"
            ],
            [
             0.3,
             "#f1b6da"
            ],
            [
             0.4,
             "#fde0ef"
            ],
            [
             0.5,
             "#f7f7f7"
            ],
            [
             0.6,
             "#e6f5d0"
            ],
            [
             0.7,
             "#b8e186"
            ],
            [
             0.8,
             "#7fbc41"
            ],
            [
             0.9,
             "#4d9221"
            ],
            [
             1,
             "#276419"
            ]
           ],
           "sequential": [
            [
             0,
             "#0d0887"
            ],
            [
             0.1111111111111111,
             "#46039f"
            ],
            [
             0.2222222222222222,
             "#7201a8"
            ],
            [
             0.3333333333333333,
             "#9c179e"
            ],
            [
             0.4444444444444444,
             "#bd3786"
            ],
            [
             0.5555555555555556,
             "#d8576b"
            ],
            [
             0.6666666666666666,
             "#ed7953"
            ],
            [
             0.7777777777777778,
             "#fb9f3a"
            ],
            [
             0.8888888888888888,
             "#fdca26"
            ],
            [
             1,
             "#f0f921"
            ]
           ],
           "sequentialminus": [
            [
             0,
             "#0d0887"
            ],
            [
             0.1111111111111111,
             "#46039f"
            ],
            [
             0.2222222222222222,
             "#7201a8"
            ],
            [
             0.3333333333333333,
             "#9c179e"
            ],
            [
             0.4444444444444444,
             "#bd3786"
            ],
            [
             0.5555555555555556,
             "#d8576b"
            ],
            [
             0.6666666666666666,
             "#ed7953"
            ],
            [
             0.7777777777777778,
             "#fb9f3a"
            ],
            [
             0.8888888888888888,
             "#fdca26"
            ],
            [
             1,
             "#f0f921"
            ]
           ]
          },
          "colorway": [
           "#636efa",
           "#EF553B",
           "#00cc96",
           "#ab63fa",
           "#FFA15A",
           "#19d3f3",
           "#FF6692",
           "#B6E880",
           "#FF97FF",
           "#FECB52"
          ],
          "font": {
           "color": "#2a3f5f"
          },
          "geo": {
           "bgcolor": "white",
           "lakecolor": "white",
           "landcolor": "#E5ECF6",
           "showlakes": true,
           "showland": true,
           "subunitcolor": "white"
          },
          "hoverlabel": {
           "align": "left"
          },
          "hovermode": "closest",
          "mapbox": {
           "style": "light"
          },
          "paper_bgcolor": "white",
          "plot_bgcolor": "#E5ECF6",
          "polar": {
           "angularaxis": {
            "gridcolor": "white",
            "linecolor": "white",
            "ticks": ""
           },
           "bgcolor": "#E5ECF6",
           "radialaxis": {
            "gridcolor": "white",
            "linecolor": "white",
            "ticks": ""
           }
          },
          "scene": {
           "xaxis": {
            "backgroundcolor": "#E5ECF6",
            "gridcolor": "white",
            "gridwidth": 2,
            "linecolor": "white",
            "showbackground": true,
            "ticks": "",
            "zerolinecolor": "white"
           },
           "yaxis": {
            "backgroundcolor": "#E5ECF6",
            "gridcolor": "white",
            "gridwidth": 2,
            "linecolor": "white",
            "showbackground": true,
            "ticks": "",
            "zerolinecolor": "white"
           },
           "zaxis": {
            "backgroundcolor": "#E5ECF6",
            "gridcolor": "white",
            "gridwidth": 2,
            "linecolor": "white",
            "showbackground": true,
            "ticks": "",
            "zerolinecolor": "white"
           }
          },
          "shapedefaults": {
           "line": {
            "color": "#2a3f5f"
           }
          },
          "ternary": {
           "aaxis": {
            "gridcolor": "white",
            "linecolor": "white",
            "ticks": ""
           },
           "baxis": {
            "gridcolor": "white",
            "linecolor": "white",
            "ticks": ""
           },
           "bgcolor": "#E5ECF6",
           "caxis": {
            "gridcolor": "white",
            "linecolor": "white",
            "ticks": ""
           }
          },
          "title": {
           "x": 0.05
          },
          "xaxis": {
           "automargin": true,
           "gridcolor": "white",
           "linecolor": "white",
           "ticks": "",
           "title": {
            "standoff": 15
           },
           "zerolinecolor": "white",
           "zerolinewidth": 2
          },
          "yaxis": {
           "automargin": true,
           "gridcolor": "white",
           "linecolor": "white",
           "ticks": "",
           "title": {
            "standoff": 15
           },
           "zerolinecolor": "white",
           "zerolinewidth": 2
          }
         }
        },
        "title": {
         "text": "Top 10 Players NBA 1960-1969 Total Points",
         "x": 0.5
        }
       }
      },
      "text/html": [
       "<div>                            <div id=\"83d1df37-297d-4c38-a679-f1d7e0f856cf\" class=\"plotly-graph-div\" style=\"height:525px; width:100%;\"></div>            <script type=\"text/javascript\">                require([\"plotly\"], function(Plotly) {                    window.PLOTLYENV=window.PLOTLYENV || {};                                    if (document.getElementById(\"83d1df37-297d-4c38-a679-f1d7e0f856cf\")) {                    Plotly.newPlot(                        \"83d1df37-297d-4c38-a679-f1d7e0f856cf\",                        [{\"x\":[29632,20261,19983,18433,16835,16390,15859,14390,12691,12195],\"y\":[\"Wilt Chamberlain*\",\"Oscar Robertson*\",\"Elgin Baylor*\",\"Walt Bellamy*\",\"Jerry West*\",\"Hal Greer*\",\"Bailey Howell*\",\"Sam Jones*\",\"Richie Guerin*\",\"Bob Boozer\"],\"type\":\"funnel\"}],                        {\"template\":{\"data\":{\"histogram2dcontour\":[{\"type\":\"histogram2dcontour\",\"colorbar\":{\"outlinewidth\":0,\"ticks\":\"\"},\"colorscale\":[[0.0,\"#0d0887\"],[0.1111111111111111,\"#46039f\"],[0.2222222222222222,\"#7201a8\"],[0.3333333333333333,\"#9c179e\"],[0.4444444444444444,\"#bd3786\"],[0.5555555555555556,\"#d8576b\"],[0.6666666666666666,\"#ed7953\"],[0.7777777777777778,\"#fb9f3a\"],[0.8888888888888888,\"#fdca26\"],[1.0,\"#f0f921\"]]}],\"choropleth\":[{\"type\":\"choropleth\",\"colorbar\":{\"outlinewidth\":0,\"ticks\":\"\"}}],\"histogram2d\":[{\"type\":\"histogram2d\",\"colorbar\":{\"outlinewidth\":0,\"ticks\":\"\"},\"colorscale\":[[0.0,\"#0d0887\"],[0.1111111111111111,\"#46039f\"],[0.2222222222222222,\"#7201a8\"],[0.3333333333333333,\"#9c179e\"],[0.4444444444444444,\"#bd3786\"],[0.5555555555555556,\"#d8576b\"],[0.6666666666666666,\"#ed7953\"],[0.7777777777777778,\"#fb9f3a\"],[0.8888888888888888,\"#fdca26\"],[1.0,\"#f0f921\"]]}],\"heatmap\":[{\"type\":\"heatmap\",\"colorbar\":{\"outlinewidth\":0,\"ticks\":\"\"},\"colorscale\":[[0.0,\"#0d0887\"],[0.1111111111111111,\"#46039f\"],[0.2222222222222222,\"#7201a8\"],[0.3333333333333333,\"#9c179e\"],[0.4444444444444444,\"#bd3786\"],[0.5555555555555556,\"#d8576b\"],[0.6666666666666666,\"#ed7953\"],[0.7777777777777778,\"#fb9f3a\"],[0.8888888888888888,\"#fdca26\"],[1.0,\"#f0f921\"]]}],\"heatmapgl\":[{\"type\":\"heatmapgl\",\"colorbar\":{\"outlinewidth\":0,\"ticks\":\"\"},\"colorscale\":[[0.0,\"#0d0887\"],[0.1111111111111111,\"#46039f\"],[0.2222222222222222,\"#7201a8\"],[0.3333333333333333,\"#9c179e\"],[0.4444444444444444,\"#bd3786\"],[0.5555555555555556,\"#d8576b\"],[0.6666666666666666,\"#ed7953\"],[0.7777777777777778,\"#fb9f3a\"],[0.8888888888888888,\"#fdca26\"],[1.0,\"#f0f921\"]]}],\"contourcarpet\":[{\"type\":\"contourcarpet\",\"colorbar\":{\"outlinewidth\":0,\"ticks\":\"\"}}],\"contour\":[{\"type\":\"contour\",\"colorbar\":{\"outlinewidth\":0,\"ticks\":\"\"},\"colorscale\":[[0.0,\"#0d0887\"],[0.1111111111111111,\"#46039f\"],[0.2222222222222222,\"#7201a8\"],[0.3333333333333333,\"#9c179e\"],[0.4444444444444444,\"#bd3786\"],[0.5555555555555556,\"#d8576b\"],[0.6666666666666666,\"#ed7953\"],[0.7777777777777778,\"#fb9f3a\"],[0.8888888888888888,\"#fdca26\"],[1.0,\"#f0f921\"]]}],\"surface\":[{\"type\":\"surface\",\"colorbar\":{\"outlinewidth\":0,\"ticks\":\"\"},\"colorscale\":[[0.0,\"#0d0887\"],[0.1111111111111111,\"#46039f\"],[0.2222222222222222,\"#7201a8\"],[0.3333333333333333,\"#9c179e\"],[0.4444444444444444,\"#bd3786\"],[0.5555555555555556,\"#d8576b\"],[0.6666666666666666,\"#ed7953\"],[0.7777777777777778,\"#fb9f3a\"],[0.8888888888888888,\"#fdca26\"],[1.0,\"#f0f921\"]]}],\"mesh3d\":[{\"type\":\"mesh3d\",\"colorbar\":{\"outlinewidth\":0,\"ticks\":\"\"}}],\"scatter\":[{\"fillpattern\":{\"fillmode\":\"overlay\",\"size\":10,\"solidity\":0.2},\"type\":\"scatter\"}],\"parcoords\":[{\"type\":\"parcoords\",\"line\":{\"colorbar\":{\"outlinewidth\":0,\"ticks\":\"\"}}}],\"scatterpolargl\":[{\"type\":\"scatterpolargl\",\"marker\":{\"colorbar\":{\"outlinewidth\":0,\"ticks\":\"\"}}}],\"bar\":[{\"error_x\":{\"color\":\"#2a3f5f\"},\"error_y\":{\"color\":\"#2a3f5f\"},\"marker\":{\"line\":{\"color\":\"#E5ECF6\",\"width\":0.5},\"pattern\":{\"fillmode\":\"overlay\",\"size\":10,\"solidity\":0.2}},\"type\":\"bar\"}],\"scattergeo\":[{\"type\":\"scattergeo\",\"marker\":{\"colorbar\":{\"outlinewidth\":0,\"ticks\":\"\"}}}],\"scatterpolar\":[{\"type\":\"scatterpolar\",\"marker\":{\"colorbar\":{\"outlinewidth\":0,\"ticks\":\"\"}}}],\"histogram\":[{\"marker\":{\"pattern\":{\"fillmode\":\"overlay\",\"size\":10,\"solidity\":0.2}},\"type\":\"histogram\"}],\"scattergl\":[{\"type\":\"scattergl\",\"marker\":{\"colorbar\":{\"outlinewidth\":0,\"ticks\":\"\"}}}],\"scatter3d\":[{\"type\":\"scatter3d\",\"line\":{\"colorbar\":{\"outlinewidth\":0,\"ticks\":\"\"}},\"marker\":{\"colorbar\":{\"outlinewidth\":0,\"ticks\":\"\"}}}],\"scattermapbox\":[{\"type\":\"scattermapbox\",\"marker\":{\"colorbar\":{\"outlinewidth\":0,\"ticks\":\"\"}}}],\"scatterternary\":[{\"type\":\"scatterternary\",\"marker\":{\"colorbar\":{\"outlinewidth\":0,\"ticks\":\"\"}}}],\"scattercarpet\":[{\"type\":\"scattercarpet\",\"marker\":{\"colorbar\":{\"outlinewidth\":0,\"ticks\":\"\"}}}],\"carpet\":[{\"aaxis\":{\"endlinecolor\":\"#2a3f5f\",\"gridcolor\":\"white\",\"linecolor\":\"white\",\"minorgridcolor\":\"white\",\"startlinecolor\":\"#2a3f5f\"},\"baxis\":{\"endlinecolor\":\"#2a3f5f\",\"gridcolor\":\"white\",\"linecolor\":\"white\",\"minorgridcolor\":\"white\",\"startlinecolor\":\"#2a3f5f\"},\"type\":\"carpet\"}],\"table\":[{\"cells\":{\"fill\":{\"color\":\"#EBF0F8\"},\"line\":{\"color\":\"white\"}},\"header\":{\"fill\":{\"color\":\"#C8D4E3\"},\"line\":{\"color\":\"white\"}},\"type\":\"table\"}],\"barpolar\":[{\"marker\":{\"line\":{\"color\":\"#E5ECF6\",\"width\":0.5},\"pattern\":{\"fillmode\":\"overlay\",\"size\":10,\"solidity\":0.2}},\"type\":\"barpolar\"}],\"pie\":[{\"automargin\":true,\"type\":\"pie\"}]},\"layout\":{\"autotypenumbers\":\"strict\",\"colorway\":[\"#636efa\",\"#EF553B\",\"#00cc96\",\"#ab63fa\",\"#FFA15A\",\"#19d3f3\",\"#FF6692\",\"#B6E880\",\"#FF97FF\",\"#FECB52\"],\"font\":{\"color\":\"#2a3f5f\"},\"hovermode\":\"closest\",\"hoverlabel\":{\"align\":\"left\"},\"paper_bgcolor\":\"white\",\"plot_bgcolor\":\"#E5ECF6\",\"polar\":{\"bgcolor\":\"#E5ECF6\",\"angularaxis\":{\"gridcolor\":\"white\",\"linecolor\":\"white\",\"ticks\":\"\"},\"radialaxis\":{\"gridcolor\":\"white\",\"linecolor\":\"white\",\"ticks\":\"\"}},\"ternary\":{\"bgcolor\":\"#E5ECF6\",\"aaxis\":{\"gridcolor\":\"white\",\"linecolor\":\"white\",\"ticks\":\"\"},\"baxis\":{\"gridcolor\":\"white\",\"linecolor\":\"white\",\"ticks\":\"\"},\"caxis\":{\"gridcolor\":\"white\",\"linecolor\":\"white\",\"ticks\":\"\"}},\"coloraxis\":{\"colorbar\":{\"outlinewidth\":0,\"ticks\":\"\"}},\"colorscale\":{\"sequential\":[[0.0,\"#0d0887\"],[0.1111111111111111,\"#46039f\"],[0.2222222222222222,\"#7201a8\"],[0.3333333333333333,\"#9c179e\"],[0.4444444444444444,\"#bd3786\"],[0.5555555555555556,\"#d8576b\"],[0.6666666666666666,\"#ed7953\"],[0.7777777777777778,\"#fb9f3a\"],[0.8888888888888888,\"#fdca26\"],[1.0,\"#f0f921\"]],\"sequentialminus\":[[0.0,\"#0d0887\"],[0.1111111111111111,\"#46039f\"],[0.2222222222222222,\"#7201a8\"],[0.3333333333333333,\"#9c179e\"],[0.4444444444444444,\"#bd3786\"],[0.5555555555555556,\"#d8576b\"],[0.6666666666666666,\"#ed7953\"],[0.7777777777777778,\"#fb9f3a\"],[0.8888888888888888,\"#fdca26\"],[1.0,\"#f0f921\"]],\"diverging\":[[0,\"#8e0152\"],[0.1,\"#c51b7d\"],[0.2,\"#de77ae\"],[0.3,\"#f1b6da\"],[0.4,\"#fde0ef\"],[0.5,\"#f7f7f7\"],[0.6,\"#e6f5d0\"],[0.7,\"#b8e186\"],[0.8,\"#7fbc41\"],[0.9,\"#4d9221\"],[1,\"#276419\"]]},\"xaxis\":{\"gridcolor\":\"white\",\"linecolor\":\"white\",\"ticks\":\"\",\"title\":{\"standoff\":15},\"zerolinecolor\":\"white\",\"automargin\":true,\"zerolinewidth\":2},\"yaxis\":{\"gridcolor\":\"white\",\"linecolor\":\"white\",\"ticks\":\"\",\"title\":{\"standoff\":15},\"zerolinecolor\":\"white\",\"automargin\":true,\"zerolinewidth\":2},\"scene\":{\"xaxis\":{\"backgroundcolor\":\"#E5ECF6\",\"gridcolor\":\"white\",\"linecolor\":\"white\",\"showbackground\":true,\"ticks\":\"\",\"zerolinecolor\":\"white\",\"gridwidth\":2},\"yaxis\":{\"backgroundcolor\":\"#E5ECF6\",\"gridcolor\":\"white\",\"linecolor\":\"white\",\"showbackground\":true,\"ticks\":\"\",\"zerolinecolor\":\"white\",\"gridwidth\":2},\"zaxis\":{\"backgroundcolor\":\"#E5ECF6\",\"gridcolor\":\"white\",\"linecolor\":\"white\",\"showbackground\":true,\"ticks\":\"\",\"zerolinecolor\":\"white\",\"gridwidth\":2}},\"shapedefaults\":{\"line\":{\"color\":\"#2a3f5f\"}},\"annotationdefaults\":{\"arrowcolor\":\"#2a3f5f\",\"arrowhead\":0,\"arrowwidth\":1},\"geo\":{\"bgcolor\":\"white\",\"landcolor\":\"#E5ECF6\",\"subunitcolor\":\"white\",\"showland\":true,\"showlakes\":true,\"lakecolor\":\"white\"},\"title\":{\"x\":0.05},\"mapbox\":{\"style\":\"light\"}}},\"title\":{\"text\":\"Top 10 Players NBA 1960-1969 Total Points\",\"x\":0.5}},                        {\"responsive\": true}                    ).then(function(){\n",
       "                            \n",
       "var gd = document.getElementById('83d1df37-297d-4c38-a679-f1d7e0f856cf');\n",
       "var x = new MutationObserver(function (mutations, observer) {{\n",
       "        var display = window.getComputedStyle(gd).display;\n",
       "        if (!display || display === 'none') {{\n",
       "            console.log([gd, 'removed!']);\n",
       "            Plotly.purge(gd);\n",
       "            observer.disconnect();\n",
       "        }}\n",
       "}});\n",
       "\n",
       "// Listen for the removal of the full notebook cells\n",
       "var notebookContainer = gd.closest('#notebook-container');\n",
       "if (notebookContainer) {{\n",
       "    x.observe(notebookContainer, {childList: true});\n",
       "}}\n",
       "\n",
       "// Listen for the clearing of the current output cell\n",
       "var outputEl = gd.closest('.output');\n",
       "if (outputEl) {{\n",
       "    x.observe(outputEl, {childList: true});\n",
       "}}\n",
       "\n",
       "                        })                };                });            </script>        </div>"
      ]
     },
     "metadata": {},
     "output_type": "display_data"
    }
   ],
   "source": [
    "df_maxpoints=Stats_by_Player_total.sort_values('PTS',ascending=False)\n",
    "df_maxpoints=df_maxpoints[0:10]\n",
    "\n",
    "\n",
    "fig = go.Figure(go.Funnel(\n",
    "    y =  list(df_maxpoints['Player']),\n",
    "    x = list(df_maxpoints['PTS']))) \n",
    "fig.update_layout(title = \"Top 10 Players NBA 1960-1969 Total Points\",title_x=0.5)\n",
    "fig.show()"
   ]
  },
  {
   "cell_type": "code",
   "execution_count": null,
   "id": "20892096",
   "metadata": {},
   "outputs": [],
   "source": []
  }
 ],
 "metadata": {
  "kernelspec": {
   "display_name": "PythonData",
   "language": "python",
   "name": "pythondata"
  },
  "language_info": {
   "codemirror_mode": {
    "name": "ipython",
    "version": 3
   },
   "file_extension": ".py",
   "mimetype": "text/x-python",
   "name": "python",
   "nbconvert_exporter": "python",
   "pygments_lexer": "ipython3",
   "version": "3.9.13"
  }
 },
 "nbformat": 4,
 "nbformat_minor": 5
}
